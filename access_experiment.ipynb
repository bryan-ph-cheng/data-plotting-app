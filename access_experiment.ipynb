{
 "cells": [
  {
   "cell_type": "code",
   "execution_count": 6,
   "metadata": {},
   "outputs": [],
   "source": [
    "import qcodes as qc\n",
    "import numpy as np\n",
    "import matplotlib \n",
    "import matplotlib.pyplot as plt\n",
    "import qcodes.dataset.experiment_container as exc"
   ]
  },
  {
   "cell_type": "code",
   "execution_count": 10,
   "metadata": {},
   "outputs": [
    {
     "name": "stdout",
     "output_type": "stream",
     "text": [
      "Using config file from //anaconda3/lib/python3.7/site-packages/qcodes/config/qcodesrc.json\n",
      "Database location: ./2019-07-08-frays-final.db\n"
     ]
    }
   ],
   "source": [
    "configuration = qc.config\n",
    "print(f'Using config file from {configuration.current_config_path}')\n",
    "configuration['core']['db_location'] = './2019-07-08-frays-final.db'\n",
    "print(f'Database location: {configuration[\"core\"][\"db_location\"]}')\n",
    "qc.initialise_database()"
   ]
  },
  {
   "cell_type": "code",
   "execution_count": 42,
   "metadata": {},
   "outputs": [],
   "source": [
    "#exc.experiments()"
   ]
  },
  {
   "cell_type": "code",
   "execution_count": 12,
   "metadata": {},
   "outputs": [
    {
     "name": "stdout",
     "output_type": "stream",
     "text": [
      "overnight_Rabi#10-good-NVs#5@/Users/bryanch/UCLProjects/2019-07-08-frays-final.db\n",
      "---------------------------------------------------------------------------------\n",
      "58-cwODMR_laser20_NV_1_-1-Frequency,Counts-1\n",
      "59-rabi_100K_laser20_5dBm_NV_1_-2-Time,Act_Counts,Ref_Counts,Rebased_Counts-1\n",
      "60-cwODMR_laser20_NV_2_-3-Frequency,Counts-1\n",
      "61-rabi_100K_laser20_5dBm_NV_2_-4-Time,Act_Counts,Ref_Counts,Rebased_Counts-1\n",
      "62-cwODMR_laser20_NV_3_-5-Frequency,Counts-1\n",
      "63-rabi_100K_laser20_5dBm_NV_3_-6-Time,Act_Counts,Ref_Counts,Rebased_Counts-1\n",
      "64-cwODMR_laser20_NV_4_-7-Frequency,Counts-1\n",
      "65-rabi_100K_laser20_5dBm_NV_4_-8-Time,Act_Counts,Ref_Counts,Rebased_Counts-1\n",
      "66-cwODMR_laser20_NV_5_-9-Frequency,Counts-1\n",
      "67-rabi_100K_laser20_5dBm_NV_5_-10-Time,Act_Counts,Ref_Counts,Rebased_Counts-1\n",
      "68-cwODMR_laser20_NV_6_-11-Frequency,Counts-1\n",
      "69-rabi_100K_laser20_5dBm_NV_6_-12-Time,Act_Counts,Ref_Counts,Rebased_Counts-1\n",
      "70-cwODMR_laser20_NV_7_-13-Frequency,Counts-1\n",
      "71-rabi_100K_laser20_5dBm_NV_7_-14-Time,Act_Counts,Ref_Counts,Rebased_Counts-1\n",
      "72-cwODMR_laser20_NV_8_-15-Frequency,Counts-1\n",
      "73-rabi_100K_laser20_5dBm_NV_8_-16-Time,Act_Counts,Ref_Counts,Rebased_Counts-1\n",
      "74-cwODMR_laser20_NV_9_-17-Frequency,Counts-1\n",
      "75-rabi_100K_laser20_5dBm_NV_9_-18-Time,Act_Counts,Ref_Counts,Rebased_Counts-1\n",
      "76-cwODMR_laser20_NV_10_-19-Frequency,Counts-1\n",
      "77-rabi_100K_laser20_5dBm_NV_10_-20-Time,Act_Counts,Ref_Counts,Rebased_Counts-1\n"
     ]
    }
   ],
   "source": [
    "test = qc.load_experiment(5)\n",
    "print(test)"
   ]
  },
  {
   "cell_type": "code",
   "execution_count": 43,
   "metadata": {},
   "outputs": [],
   "source": [
    "from qcodes.dataset.data_set import load_by_id\n",
    "from qcodes.dataset.data_export import get_data_by_id"
   ]
  },
  {
   "cell_type": "code",
   "execution_count": 45,
   "metadata": {},
   "outputs": [],
   "source": [
    "x = get_data_by_id(645)\n",
    "y = load_by_id(645)\n",
    "u = y.parameters\n",
    "o = str(load_by_id(645).parameters).split(',')"
   ]
  },
  {
   "cell_type": "code",
   "execution_count": 15,
   "metadata": {},
   "outputs": [],
   "source": [
    "def getdatacategories(x):\n",
    "    dataset = get_data_by_id(x)\n",
    "    for x in dataset:\n",
    "        print(x[0]['name'])"
   ]
  },
  {
   "cell_type": "code",
   "execution_count": 16,
   "metadata": {},
   "outputs": [
    {
     "name": "stdout",
     "output_type": "stream",
     "text": [
      "Act_Counts\n",
      "Rebased_Counts\n",
      "Ref_Counts\n",
      "Time\n"
     ]
    }
   ],
   "source": [
    "getdatacategories(646)"
   ]
  },
  {
   "cell_type": "code",
   "execution_count": 137,
   "metadata": {},
   "outputs": [],
   "source": [
    "def choosedataplot(x,cat):\n",
    "    dataset = get_data_by_id(x)\n",
    "    for x in dataset:\n",
    "        if x[0]['name'] == cat:\n",
    "            yaxis=x\n",
    "            print(yaxis)\n",
    "        if x[0]['name'] == 'Time':\n",
    "            xaxis=x\n",
    "            print(xaxis)"
   ]
  },
  {
   "cell_type": "code",
   "execution_count": 138,
   "metadata": {},
   "outputs": [
    {
     "name": "stdout",
     "output_type": "stream",
     "text": [
      "[{'name': 'Act_Counts', 'data': array([0.02712667, 0.02868667, 0.02781417, 0.02663417, 0.02697667,\n",
      "       0.02689667, 0.02694583, 0.02679917, 0.02666917, 0.02690833,\n",
      "       0.02708   , 0.02657417, 0.02672833, 0.02681417, 0.02676917,\n",
      "       0.02699417, 0.02681417, 0.02665083, 0.0268625 , 0.0267    ,\n",
      "       0.02692917, 0.026625  , 0.02676333, 0.02679917, 0.02683   ,\n",
      "       0.02684167, 0.02682667, 0.02678083, 0.02671   , 0.02683833,\n",
      "       0.02669583, 0.02675083, 0.0269625 , 0.02692333, 0.02675083,\n",
      "       0.0271725 , 0.02708   , 0.02739   , 0.02644   , 0.02711417,\n",
      "       0.026905  , 0.0266125 , 0.02702583, 0.02689583, 0.02702667,\n",
      "       0.02705583, 0.02705833, 0.02669833, 0.0266825 , 0.02681333,\n",
      "       0.0268025 ]), 'unit': '', 'label': ''}]\n",
      "[{'name': 'Time', 'data': array([    0.,  1000.,  2000.,  3000.,  4000.,  5000.,  6000.,  7000.,\n",
      "        8000.,  9000., 10000., 11000., 12000., 13000., 14000., 15000.,\n",
      "       16000., 17000., 18000., 19000., 20000., 21000., 22000., 23000.,\n",
      "       24000., 25000., 26000., 27000., 28000., 29000., 30000., 31000.,\n",
      "       32000., 33000., 34000., 35000., 36000., 37000., 38000., 39000.,\n",
      "       40000., 41000., 42000., 43000., 44000., 45000., 46000., 47000.,\n",
      "       48000., 49000., 50000.]), 'unit': 'ns', 'label': ''}]\n"
     ]
    }
   ],
   "source": [
    "choosedataplot(646,'Act_Counts')"
   ]
  },
  {
   "cell_type": "code",
   "execution_count": 139,
   "metadata": {},
   "outputs": [
    {
     "name": "stdout",
     "output_type": "stream",
     "text": [
      "[{'name': 'Ref_Counts', 'data': array([0.02916316, 0.02900132, 0.02937763, 0.02926579, 0.02944211,\n",
      "       0.02916842, 0.02911316, 0.02911447, 0.02929605, 0.02940263,\n",
      "       0.02915132, 0.02889079, 0.02908553, 0.02882237, 0.02902895,\n",
      "       0.02917763, 0.02926711, 0.02935526, 0.02919079, 0.02899737,\n",
      "       0.02906316, 0.02934211, 0.02921053, 0.0294    , 0.02918158,\n",
      "       0.02896974, 0.02906053, 0.02929474, 0.02943158, 0.02907105,\n",
      "       0.02938553, 0.02948026, 0.02889342, 0.02945   , 0.02905395,\n",
      "       0.02937237, 0.02914474, 0.02943026, 0.02939211, 0.02917237,\n",
      "       0.02893026, 0.02930132, 0.02885526, 0.02902763, 0.02901711,\n",
      "       0.02944079, 0.02924868, 0.02927632, 0.02908421, 0.02917237,\n",
      "       0.02908947, 0.02910395, 0.02924868, 0.02924211, 0.02925   ,\n",
      "       0.02944079, 0.02892895, 0.02943684, 0.02924605, 0.029125  ,\n",
      "       0.02901053]), 'unit': '', 'label': ''}]\n",
      "[{'name': 'Time', 'data': array([  0.,  10.,  20.,  30.,  40.,  50.,  60.,  70.,  80.,  90., 100.,\n",
      "       110., 120., 130., 140., 150., 160., 170., 180., 190., 200., 210.,\n",
      "       220., 230., 240., 250., 260., 270., 280., 290., 300., 310., 320.,\n",
      "       330., 340., 350., 360., 370., 380., 390., 400., 410., 420., 430.,\n",
      "       440., 450., 460., 470., 480., 490., 500., 510., 520., 530., 540.,\n",
      "       550., 560., 570., 580., 590., 600.]), 'unit': 'ns', 'label': ''}]\n"
     ]
    }
   ],
   "source": [
    "choosedataplot(645,'Ref_Counts')"
   ]
  },
  {
   "cell_type": "code",
   "execution_count": null,
   "metadata": {},
   "outputs": [],
   "source": [
    "choosedataplot(645,)"
   ]
  }
 ],
 "metadata": {
  "kernelspec": {
   "display_name": "Python 3",
   "language": "python",
   "name": "python3"
  },
  "language_info": {
   "codemirror_mode": {
    "name": "ipython",
    "version": 3
   },
   "file_extension": ".py",
   "mimetype": "text/x-python",
   "name": "python",
   "nbconvert_exporter": "python",
   "pygments_lexer": "ipython3",
   "version": "3.7.3"
  }
 },
 "nbformat": 4,
 "nbformat_minor": 4
}
