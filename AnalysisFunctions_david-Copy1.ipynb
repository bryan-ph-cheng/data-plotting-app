{
 "cells": [
  {
   "cell_type": "markdown",
   "metadata": {},
   "source": [
    "# Analysis Initialization and Functions"
   ]
  },
  {
   "cell_type": "code",
   "execution_count": 17,
   "metadata": {},
   "outputs": [],
   "source": [
    "import plotly\n",
    "from plotly import tools\n",
    "import plotly.io as pio\n",
    "import qcodes as qc\n",
    "import numpy as np\n",
    "from plotly import graph_objs as go\n",
    "from qcodes.instrument_drivers.rohde_schwarz import SGS100A\n",
    "from time import sleep\n",
    "from qcodes.dataset.measurements import Measurement\n",
    "import qcodes.dataset.experiment_container as exc\n",
    "from scipy.optimize import curve_fit\n",
    "import datetime\n",
    "import scipy.fftpack\n",
    "from scipy import signal\n",
    "from scipy.signal import find_peaks"
   ]
  },
  {
   "cell_type": "code",
   "execution_count": 18,
   "metadata": {},
   "outputs": [
    {
     "name": "stdout",
     "output_type": "stream",
     "text": [
      "Using config file from //anaconda3/lib/python3.7/site-packages/qcodes/config/qcodesrc.json\n",
      "Database location: ./2019-07-08-frays-final.db\n"
     ]
    }
   ],
   "source": [
    "configuration = qc.config\n",
    "print(f'Using config file from {configuration.current_config_path}')\n",
    "configuration['core']['db_location'] = './2019-07-08-frays-final.db'\n",
    "print(f'Database location: {configuration[\"core\"][\"db_location\"]}')\n",
    "qc.initialise_database()"
   ]
  },
  {
   "cell_type": "code",
   "execution_count": 3,
   "metadata": {},
   "outputs": [
    {
     "data": {
      "text/html": [
       "        <script type=\"text/javascript\">\n",
       "        window.PlotlyConfig = {MathJaxConfig: 'local'};\n",
       "        if (window.MathJax) {MathJax.Hub.Config({SVG: {font: \"STIX-Web\"}});}\n",
       "        if (typeof require !== 'undefined') {\n",
       "        require.undef(\"plotly\");\n",
       "        requirejs.config({\n",
       "            paths: {\n",
       "                'plotly': ['https://cdn.plot.ly/plotly-latest.min']\n",
       "            }\n",
       "        });\n",
       "        require(['plotly'], function(Plotly) {\n",
       "            window._Plotly = Plotly;\n",
       "        });\n",
       "        }\n",
       "        </script>\n",
       "        "
      ]
     },
     "metadata": {},
     "output_type": "display_data"
    }
   ],
   "source": []
  },
  {
   "cell_type": "code",
   "execution_count": 4,
   "metadata": {},
   "outputs": [
    {
     "name": "stdout",
     "output_type": "stream",
     "text": [
      "['magFieldAlignment', 'ODMR_check', 'Alignement_Improvement', 'Calibration', 'overnight_Rabi', 'power_check_rabi', 'frequency_checks', 'overnight_peakonly_spinecho', 'overnight_peakonly_spinecho_for_real', 'pulsedOdmr_central_7', 'pulsedOdmr_rabi_central_7', 'pulsedOdmr_rabi_echo_weekend_7', 'pulsedOdmr_rabi_echo_postCooldown_70K', 'pulsedOdmr_rabi_echo_postCooldown_70K_forReal', 'pulsedOdmr_rabi_echo_postCooldown_70K_adjustedFreq', 'pulsedOdmr_rabi_echo_postCooldown_70K_Overnight', 'pulsedOdmr_rabi_echo_40K_Overnight', 'pulsedOdmr_rabi_echo_40K_check', 'rabi_echo_40K', 'cwODMR_15K', 'pulsedOdmr_rabi_echo_15K', 'pulsedOdmr_rabi_echo_15K_overnight', 'pulsedOdmr_rabi_echo_15K_final', 'pulsedOdmr_rabi_echo_2-5K', 'pulsedOdmr_rabi_echo_2K', 'pulsedOdmr_7NVs_2K', 'Odmr_7NVs_100K', 'pulsedOdmr_7NVs_100K', 'pulsedOdmr_rabi_spinecho_7NVs_100K', 'pulsedOdmr_rabi_spinecho_7NVs_100K_overnight', 'pulsedOdmr_rabi_spinecho_7NVs_40K', 'CWodmr_7NVs_40K', 'rabi_spinEcho_7NVs_40K', 'cwODMR_7NVs_55K', 'rabi_spinEcho_7NVs_55K', 'cwODMR_7NVs_25K', 'rabi_spinEcho_7NVs_25K', 'nmr_tests_7NVs_25K', 'nmr_tests_7NVs_15K', 'nmr_NV1_15K', 'pulsedODMR_NV1_15K', 'xySequenceTests_NV1_15K', 'xy32_NV1_15K_overnight', 'pulsedODMR_7NVs_7K', '100K_check', '100K_highMagField', '100K_cpmg', '100K_xy8']\n"
     ]
    }
   ],
   "source": [
    "experimentsList = [exp.name for exp in exc.experiments()]\n",
    "print(experimentsList)"
   ]
  },
  {
   "cell_type": "code",
   "execution_count": 5,
   "metadata": {},
   "outputs": [],
   "source": [
    "def normalizeCounts(countArray, num):\n",
    "    reb_counts = np.squeeze(countArray)/np.mean(np.sort(np.squeeze(countArray))[-num:])\n",
    "    return reb_counts"
   ]
  },
  {
   "cell_type": "code",
   "execution_count": 6,
   "metadata": {},
   "outputs": [],
   "source": [
    "def lorentzian(x, x0, a0, g, amp):\n",
    "    denom = (x - x0)**2 + (0.5*g)**2\n",
    "    num = 0.5*g\n",
    "    frac = a0 - (num/denom) * (amp)/np.pi\n",
    "    return frac"
   ]
  },
  {
   "cell_type": "code",
   "execution_count": 7,
   "metadata": {},
   "outputs": [],
   "source": [
    "def sinedamp(x,a,c,f,t):\n",
    "    fun = a*np.cos(2*np.pi*f*x)*np.exp(-1*(x/t)) + c\n",
    "    return fun"
   ]
  },
  {
   "cell_type": "code",
   "execution_count": 8,
   "metadata": {},
   "outputs": [],
   "source": [
    "def stretchedexp(x,a,c,k,t):\n",
    "    fun = a*np.exp(-1*(x/t)**k) + c\n",
    "    return fun"
   ]
  },
  {
   "cell_type": "markdown",
   "metadata": {},
   "source": [
    "### To fit the signal with a lorentzian function"
   ]
  },
  {
   "cell_type": "code",
   "execution_count": 9,
   "metadata": {},
   "outputs": [],
   "source": [
    "def fitlorentzian(plotfun, expt='pulsedodmr', file=[], lb=None,ub=None):\n",
    "    \"Fitting parameters are ODMR frequency in GHz, Width in GHz, and Amplitude. \\\n",
    "    Attribute - expt - can either be 'odmr' or 'pulsedodmr'\"\n",
    "    if np.size(file) != 0:\n",
    "        Data = exc.load_by_id(file[0])\n",
    "    else:\n",
    "        lastExperiment = exc.load_last_experiment()\n",
    "        Data = lastExperiment.last_data_set()\n",
    "    xaxis = 'Frequency'\n",
    "    x1 = np.squeeze(Data.get_data(xaxis))\n",
    "    \n",
    "    if expt == 'odmr':\n",
    "        yaxis = 'Counts'\n",
    "        y1 = normalizeCounts(Data.get_data(yaxis),50)\n",
    "    elif expt == 'pulsedodmr':\n",
    "        y1 = np.squeeze(Data.get_data('Rebased_Counts'))  \n",
    "        \n",
    "    index = np.argmin(y1)\n",
    "    freq = x1[index]/1e9\n",
    "    \n",
    "    if (lb and ub) == None:\n",
    "        lb = [freq-0.01, 0.95, 0.007, 0.0005]\n",
    "        ub = [freq+0.01, 1.1, 0.02, 0.005]\n",
    "        \n",
    "    popt, pcov = curve_fit(lorentzian, x1/1e9, y1, bounds=(lb, ub))\n",
    "    fitname = 'Fit' + ', Resonance @ ' + str(round((popt[0]),3)) + ' GHz'\n",
    "    plotfun.add_scatter(x = x1 , y = lorentzian(x1/1e9,*popt), name = fitname) \n",
    "    return popt"
   ]
  },
  {
   "cell_type": "markdown",
   "metadata": {},
   "source": [
    "### To fit the signal with a damped sine function"
   ]
  },
  {
   "cell_type": "code",
   "execution_count": 10,
   "metadata": {},
   "outputs": [],
   "source": [
    "def fitsinedamp(plotfun=None,file=[],expt='spinecho',lb=None,ub=None):   \n",
    "    \"Fitting parameters are Amplitude, Baseline Offset, Oscillation Frequency in GHz, and Decay Time in ns.\\\n",
    "    Attribute - expt - can either be 'rabi' or 'spinecho' or 'doubleecho'\"\n",
    "    if np.size(file) != 0:\n",
    "        Data = exc.load_by_id(file[0])\n",
    "    else:\n",
    "        lastExperiment = exc.load_last_experiment()\n",
    "        Data = lastExperiment.last_data_set()\n",
    "    xaxis = 'Time'\n",
    "    \n",
    "    \n",
    "    if expt == 'rabi':\n",
    "        x1 = np.squeeze(Data.get_data(xaxis))\n",
    "        y1 = np.squeeze(Data.get_data('Rebased_Counts'))\n",
    "    elif expt == 'spinecho':\n",
    "        x1 = 2*np.squeeze(Data.get_data(xaxis))\n",
    "        y1 = np.squeeze(Data.get_data('Rebased_Counts'))\n",
    "    elif expt == 'doubleecho':\n",
    "        x1 = 2*np.squeeze(Data.get_data(xaxis))\n",
    "        y1ms0 = np.squeeze(Data.get_data('Act_Counts'))\n",
    "        y1ms1 = np.squeeze(Data.get_data('Ref_Counts'))\n",
    "        y1 = y1ms0 - y1ms1\n",
    "        \n",
    "    ampMin = 0.8*(y1.max()-y1.min())/2\n",
    "    ampMax = 1.2*(y1.max()-y1.min())/2\n",
    "    boMin = 0.4*(y1.max()+y1.min())\n",
    "    boMax = 0.6*(y1.max()+y1.min())\n",
    "    freq = 1/(x1[y1.argmin()]*2)\n",
    "    freqMin = freq*0.7\n",
    "    freqMax = freq*1.3\n",
    "    if (lb and ub) == None:\n",
    "        lb = [ampMin, boMin, freqMin, 0]\n",
    "        ub = [ampMax, boMax, freqMax, 1e5]\n",
    "#     print(f'low bounds are: {lb}')\n",
    "#     print(f'upper bounds are: {ub}')\n",
    "    popt, pcov = curve_fit(sinedamp, x1, y1, bounds=(lb,ub))\n",
    "    yval = sinedamp(x1,*popt)\n",
    "    fitname = 'Fit' + ', \\u0394 = ' + str(round((popt[0]*2*100),1)) + ' %' + ', \\u03C0 = ' +  str(round((0.5/popt[2]),1)) + ' ns'\n",
    "    if plotfun is not None:\n",
    "        plotfun.add_scatter(x = x1 , y = yval, name = fitname,line=dict(shape='spline')) \n",
    "    return popt, pcov"
   ]
  },
  {
   "cell_type": "markdown",
   "metadata": {},
   "source": [
    "### To fit the signal with a stretched exponential function"
   ]
  },
  {
   "cell_type": "code",
   "execution_count": 11,
   "metadata": {},
   "outputs": [],
   "source": [
    "def find_T2(plotfun,file=[],expt='doubleecho',threshold = 0.45, lb=[0,0,0,0],ub=[2,3,3,5e6], revivals=0):   \n",
    "    \"Fitting parameters are Amplitude, Baseline Offset, Power of Stretched Exponential, and Decay Time in ns.\\\n",
    "    Attribute - expt - can either be 'spinecho' or 'doubleecho'.\\\n",
    "    threshold is required for peak detection\"\n",
    "    \n",
    "    if np.size(file) != 0:\n",
    "        Data = exc.load_by_id(file[0])\n",
    "    else:\n",
    "        lastExperiment = exc.load_last_experiment()\n",
    "        Data = lastExperiment.last_data_set()\n",
    "        \n",
    "    x1 = 2*np.squeeze(Data.get_data('Time'))\n",
    "    if expt == 'spinecho':\n",
    "        y1 = np.squeeze(Data.get_data('Rebased_Counts'))  \n",
    "    elif expt == 'doubleecho':\n",
    "        y1ms0 = np.squeeze(Data.get_data('Act_Counts'))\n",
    "        y1ms1 = np.squeeze(Data.get_data('Ref_Counts'))\n",
    "        y1 = y1ms0 - y1ms1 \n",
    "        y1 = (y1 + max(y1))/(2*max(y1))\n",
    "    if revivals == 1:\n",
    "        peaks, _= find_peaks(y1,height=threshold,distance=6, width=3)\n",
    "        x0 = np.array([0])\n",
    "        y0 = np.array([y1[0]])\n",
    "        xpeaks = np.concatenate([x0, x1[peaks]], axis=0)\n",
    "        print(xpeaks)\n",
    "        ypeaks = np.concatenate([y0, y1[peaks]], axis=0)\n",
    "        print(ypeaks)\n",
    "    else:\n",
    "        xpeaks = x1\n",
    "        ypeaks = y1\n",
    "    \n",
    "    popt, pcov = curve_fit(stretchedexp, xpeaks, ypeaks, bounds=(lb,ub))\n",
    "    yval = stretchedexp(xpeaks,*popt)\n",
    "    \n",
    "    fitname = 'Fit, T2 = ' + str(round((popt[3]/1e3),1)) + ' \\u03BCs' \n",
    "    \n",
    "    #plotfun.add_scatter(x = xpeaks, y = ypeaks, mode='markers', name = 'Detected Peaks',marker=dict(color='red', size=10, opacity=0.5)) \n",
    "    plotfun.add_scatter(x = xpeaks , y = yval, name = fitname, line=dict(shape='spline'), mode='lines')\n",
    "    \n",
    "    return popt, pcov"
   ]
  },
  {
   "cell_type": "markdown",
   "metadata": {},
   "source": [
    "### To generate a  fourier transform"
   ]
  },
  {
   "cell_type": "code",
   "execution_count": 12,
   "metadata": {},
   "outputs": [],
   "source": [
    "def fouriertransform(file=[],expt='spinecho'):\n",
    "    \"Attribute - expt - can either be 'rabi' or 'ramsey' or 'spinecho' or 'doubleecho'\"\n",
    "    layout = go.Layout(xaxis=dict(title='Frequency (GHz)'),yaxis=dict(title='Amplitude'),title = 'Fourier Transform of a ' + expt.capitalize() + ' signal')\n",
    "    freqPlot = go.Figure(layout=layout)\n",
    "    if np.size(file) != 0:\n",
    "        Data = exc.load_by_id(file[0])\n",
    "    else:\n",
    "        lastExperiment = exc.load_last_experiment()\n",
    "        Data = lastExperiment.last_data_set()\n",
    "        \n",
    "    xaxis = 'Time'\n",
    "    if expt == 'rabi' or expt == 'ramsey':\n",
    "        x1 = np.squeeze(Data.get_data(xaxis))\n",
    "        y1 = np.squeeze(Data.get_data('Rebased_Counts'))\n",
    "    elif expt == 'spinecho':\n",
    "        x1 = 2*np.squeeze(Data.get_data(xaxis))\n",
    "        y1 = np.squeeze(Data.get_data('Rebased_Counts'))\n",
    "    elif expt == 'doubleecho':\n",
    "        x1 = 2*np.squeeze(Data.get_data(xaxis))\n",
    "        y1ms0 = np.squeeze(Data.get_data('Act_Counts'))\n",
    "        y1ms1 = np.squeeze(Data.get_data('Ref_Counts'))\n",
    "        y1 = y1ms0 - y1ms1\n",
    "    elif expt == 'nmr':\n",
    "        x1 = np.squeeze(Data.get_data(xaxis))\n",
    "        y1ms0 = np.squeeze(Data.get_data('Act_Counts'))\n",
    "        y1ms1 = np.squeeze(Data.get_data('Ref_Counts'))\n",
    "        y1 = y1ms1 - y1ms0\n",
    "        \n",
    "    step = x1[1] - x1[0]\n",
    "        \n",
    "    fourTrans = np.fft.fft(y1)\n",
    "    freqs = np.fft.fftfreq(y1.shape[-1], step)\n",
    "    fourTransReal = fourTrans.real\n",
    "    freqPlot.add_scatter(x = freqs, y = fourTransReal,line=dict(shape='spline'), mode='lines')\n",
    "    return freqPlot"
   ]
  },
  {
   "cell_type": "markdown",
   "metadata": {},
   "source": [
    "### To calculate and plot magnitude + direction of the applied field"
   ]
  },
  {
   "cell_type": "code",
   "execution_count": 13,
   "metadata": {},
   "outputs": [],
   "source": [
    "def magfield(odmr1=[2.87],odmr2=[2.87],strain=5):\n",
    "    \"Input ODMR frequencies in GHz and strain splitting in MHz\"\n",
    "    \n",
    "    g = 2.8024e6\n",
    "    D = 2.877e9\n",
    "    \n",
    "    pts = np.size(odmr1)\n",
    "    theta = np.zeros([pts])\n",
    "    B0 = np.zeros([pts])\n",
    "    \n",
    "    for i in range (pts):\n",
    "        n1 = odmr1[i]*1e9 + strain*1e6/2\n",
    "        n2 = odmr2[i]*1e9 - strain*1e6/2\n",
    "        P = n1**2 + n2**2 - n1*n2\n",
    "        Q = (n1 + n2)*(2*n1**2 + 2*n2**2-5*n1*n2)\n",
    "        B = np.sqrt((P-D**2)/3);\n",
    "        c2t = (Q + 9*D*B**2+2*D**3)/(27*D*B**2);\n",
    "        angle = np.arccos(np.sqrt(c2t))*180/np.pi;\n",
    "        theta[i] = round(angle,2);\n",
    "        B = B.real/g;\n",
    "        B0[i] = round(B,2);\n",
    "    \n",
    "    fig = tools.make_subplots(rows=1, cols=2)\n",
    "    plotfun = go.Figure(fig)\n",
    "    plotfun.layout.yaxis.title = 'Magnetic Field Magnitude (gauss)'\n",
    "    plotfun.layout.yaxis2.title = 'Angle to NV axis (degrees)'\n",
    "    plotfun.add_bar(y=B0,row=1,col=1,name='Magnitude')\n",
    "    plotfun.add_bar(y=theta,row=1,col=2,name='Angle')\n",
    "    plotfun.layout.title = 'Checking magnetic field alignment'\n",
    "    return plotfun"
   ]
  },
  {
   "cell_type": "markdown",
   "metadata": {},
   "source": [
    "### To plot recent and saved data"
   ]
  },
  {
   "cell_type": "code",
   "execution_count": 24,
   "metadata": {},
   "outputs": [],
   "source": [
    "def plotdata(expt='odmr', plotcurrent=0, normalize= 1, files=[1], nPi = []): \n",
    "    \"Attribute - expt - can either be 'counting' or 'odmr' or 'pulsedodmr' or 'rabi' or 'ramsey' or 'spinecho' or 'doubleecho' or 'nmr'.\\\n",
    "    If value of plotcurrent is 1 then it will plot the current data. If value of normalize is 1 then it will normalize 'odmr' and 'doubleecho' signal.\"\n",
    "    if plotcurrent == 1:        \n",
    "        filesize = np.size(files) + 1\n",
    "    else:\n",
    "        filesize = np.size(files)  \n",
    "        \n",
    "    plotfun = go.Figure()    \n",
    "    for i in range(filesize):\n",
    "        if plotcurrent == 1 and i == filesize-1:\n",
    "            Data2 = exc.load_last_experiment()\n",
    "            Data2 = Data2.last_data_set()\n",
    "        else:    \n",
    "            Data2 = exc.load_by_id(files[i])\n",
    "        if expt == 'spinecho':\n",
    "            x2 = 2*np.squeeze(Data2.get_data('Time'))\n",
    "            y2 = np.squeeze(Data2.get_data('Rebased_Counts'))\n",
    "            plotfun.layout = go.Layout(xaxis=dict(title='Time (ns)'),yaxis=dict(title='Counts'),title=expt.capitalize())                  \n",
    "        elif expt == 'doubleecho':\n",
    "            if nPi == [] or nPi[i] == 1:\n",
    "                x2 = 2*np.squeeze(Data2.get_data('Time'))\n",
    "            else:\n",
    "                x2 = nPi[i]*np.squeeze(Data2.get_data('Time'))\n",
    "            y2ms0 = np.squeeze(Data2.get_data('Act_Counts'))\n",
    "            y2ms1 = np.squeeze(Data2.get_data('Ref_Counts'))\n",
    "            y2 = y2ms0 - y2ms1   \n",
    "            plotfun.layout = go.Layout(xaxis=dict(title='Time (ns)'),yaxis=dict(title='Counts'),title='Spinecho Double Measure')\n",
    "            if normalize == 1:\n",
    "                y2 = (y2 + max(y2))/(2*max(y2))\n",
    "        elif expt == 'nmr':\n",
    "            x2 = np.squeeze(Data2.get_data('Time'))\n",
    "            y2ms0 = np.squeeze(Data2.get_data('Act_Counts'))\n",
    "            y2ms1 = np.squeeze(Data2.get_data('Ref_Counts'))\n",
    "            y2 = y2ms0 - y2ms1   \n",
    "            plotfun.layout = go.Layout(xaxis=dict(title='Time (ns)'),yaxis=dict(title='Counts'),title='NMR')\n",
    "            if normalize == 1:\n",
    "                y2 = (y2 + max(y2))/(2*max(y2))\n",
    "        elif expt == 'odmr':\n",
    "            x2 = np.squeeze(Data2.get_data('Frequency'))\n",
    "            y2 = np.squeeze(Data2.get_data('Counts'))\n",
    "            plotfun.layout = go.Layout(xaxis=dict(title='Frequency (Hz)'),yaxis=dict(title='Counts'),title=expt.upper())\n",
    "            if normalize == 1:\n",
    "                y2 = normalizeCounts(Data2.get_data('Counts'),50)\n",
    "                layout = go.Layout(xaxis=dict(title='Frequency (Hz)'),yaxis=dict(title='Normalized Counts'),title=expt.upper())\n",
    "        elif expt == 'pulsedodmr':\n",
    "            x2 = np.squeeze(Data2.get_data('Frequency'))\n",
    "            y2 = np.squeeze(Data2.get_data('Rebased_Counts'))   \n",
    "            plotfun.layout = go.Layout(xaxis=dict(title='Frequency (Hz)'),yaxis=dict(title='Counts'),title='Pulsed ODMR')\n",
    "        elif expt == 'g2':\n",
    "            x2 = np.squeeze(Data2.get_data('Time'))\n",
    "            y2 = np.squeeze(Data2.get_data('Norm_Counts'))\n",
    "            plotfun.layout = go.Layout(xaxis=dict(title='Time dif'), yaxis=dict(title='Normalised Counts'), title='g2 Dip')\n",
    "        else:\n",
    "            x2 = np.squeeze(Data2.get_data('Time'))\n",
    "            y2 = np.squeeze(Data2.get_data('Rebased_Counts'))     \n",
    "            plotfun.layout = go.Layout(xaxis=dict(title='Time (ns)'),yaxis=dict(title='Counts'),title=expt.capitalize())\n",
    "        if plotcurrent == 1 and i == filesize-1:\n",
    "            plotfun.add_scatter(x = x2, y = y2, name = 'Recent Data', mode='lines+markers') \n",
    "        else:       \n",
    "            plotfun.add_scatter(x = x2, y = y2, name = files[i], mode='lines+markers') \n",
    "    return plotfun"
   ]
  },
  {
   "cell_type": "markdown",
   "metadata": {},
   "source": [
    "### To update recent data"
   ]
  },
  {
   "cell_type": "code",
   "execution_count": 15,
   "metadata": {},
   "outputs": [],
   "source": [
    "def updatedata(plotfun, expt='rabi', sleeptime=2, normalize=1, animation=1):\n",
    "    \"Attribute - expt - can either be 'counting' or 'odmr' or 'pulsedodmr' or rabi' or 'ramsey' or 'spinecho' or 'doubleecho'.\\\n",
    "    If value of plotcurrent is 1 then it will plot the current data. If value of normalize is 1 then it will normalize 'odmr' and 'doubleecho' signal.\"\n",
    "    for i in range(10000):\n",
    "        sleep(sleeptime)\n",
    "        if animation == 1:\n",
    "            with plotfun.batch_animate(easing = 'quad'):   \n",
    "                Data2 = exc.load_last_experiment()\n",
    "                Data2 = Data2.last_data_set()\n",
    "                if expt == 'doubleecho':\n",
    "                    y2ms0 = np.squeeze(Data2.get_data('Act_Counts'))\n",
    "                    y2ms1 = np.squeeze(Data2.get_data('Ref_Counts'))\n",
    "                    y2 = y2ms0 - y2ms1  \n",
    "                    if normalize == 1:\n",
    "                        y2 = (y2 + max(y2))/(2*max(y2))\n",
    "                elif expt == 'nmr':\n",
    "                    y2ms0 = np.squeeze(Data2.get_data('Act_Counts'))\n",
    "                    y2ms1 = np.squeeze(Data2.get_data('Ref_Counts'))\n",
    "                    y2 = y2ms0 - y2ms1  \n",
    "                    if normalize == 1:\n",
    "                        y2 = (y2 + max(y2))/(2*max(y2))\n",
    "                elif expt == 'odmr':\n",
    "                    y2 = np.squeeze(Data2.get_data('Counts'))\n",
    "                    if normalize == 1:\n",
    "                        y2 = normalizeCounts(Data2.get_data('Counts'),50)\n",
    "                elif expt == 'g2':\n",
    "                    y2 = np.squeeze(Data2.get_data('Norm_Counts'))\n",
    "                else:\n",
    "                    y2 = np.squeeze(Data2.get_data('Rebased_Counts'))     \n",
    "                plotfun.data[-1].y = y2\n",
    "        else:\n",
    "            Data2 = exc.load_last_experiment()\n",
    "            Data2 = Data2.last_data_set()\n",
    "            if expt == 'doubleecho':\n",
    "                y2ms0 = np.squeeze(Data2.get_data('Act_Counts'))\n",
    "                y2ms1 = np.squeeze(Data2.get_data('Ref_Counts'))\n",
    "                y2 = y2ms0 - y2ms1  \n",
    "                if normalize == 1:\n",
    "                    y2 = (y2 + max(y2))/(2*max(y2))\n",
    "            elif expt == 'nmr':\n",
    "                y2ms0 = np.squeeze(Data2.get_data('Act_Counts'))\n",
    "                y2ms1 = np.squeeze(Data2.get_data('Ref_Counts'))\n",
    "                y2 = y2ms0 - y2ms1  \n",
    "                if normalize == 1:\n",
    "                    y2 = (y2 + max(y2))/(2*max(y2))\n",
    "            elif expt == 'odmr':\n",
    "                y2 = np.squeeze(Data2.get_data('Counts'))\n",
    "                if normalize == 1:\n",
    "                    y2 = normalizeCounts(Data2.get_data('Counts'),50)\n",
    "            elif expt == 'g2':\n",
    "                y2 = np.squeeze(Data2.get_data('Counts'))\n",
    "            else:\n",
    "                y2 = np.squeeze(Data2.get_data('Rebased_Counts'))     \n",
    "            plotfun.data[-1].y = y2"
   ]
  },
  {
   "cell_type": "code",
   "execution_count": 25,
   "metadata": {},
   "outputs": [
    {
     "data": {
      "application/vnd.plotly.v1+json": {
       "config": {
        "plotlyServerURL": "https://plot.ly"
       },
       "data": [
        {
         "mode": "lines+markers",
         "name": "1",
         "type": "scatter",
         "x": [
          2700000000,
          2701000000,
          2702000000,
          2703000000,
          2704000000,
          2705000000,
          2706000000,
          2707000000,
          2708000000,
          2709000000,
          2710000000,
          2711000000,
          2712000000,
          2713000000,
          2714000000,
          2715000000,
          2716000000,
          2717000000,
          2718000000,
          2719000000,
          2720000000,
          2721000000,
          2722000000,
          2723000000,
          2724000000,
          2725000000,
          2726000000,
          2727000000,
          2728000000,
          2729000000,
          2730000000,
          2731000000,
          2732000000,
          2733000000,
          2734000000,
          2735000000,
          2736000000,
          2737000000,
          2738000000,
          2739000000,
          2740000000,
          2741000000,
          2742000000,
          2743000000,
          2744000000,
          2745000000,
          2746000000,
          2747000000,
          2748000000,
          2749000000,
          2750000000,
          2751000000,
          2752000000,
          2753000000,
          2754000000,
          2755000000,
          2756000000,
          2757000000,
          2758000000,
          2759000000,
          2760000000,
          2761000000,
          2762000000,
          2763000000,
          2764000000,
          2765000000,
          2766000000,
          2767000000,
          2768000000,
          2769000000,
          2770000000,
          2771000000,
          2772000000,
          2773000000,
          2774000000,
          2775000000,
          2776000000,
          2777000000,
          2778000000,
          2779000000,
          2780000000,
          2781000000,
          2782000000,
          2783000000,
          2784000000,
          2785000000,
          2786000000,
          2787000000,
          2788000000,
          2789000000,
          2790000000,
          2791000000,
          2792000000,
          2793000000,
          2794000000,
          2795000000,
          2796000000,
          2797000000,
          2798000000,
          2799000000,
          2800000000
         ],
         "y": [
          1.003159866267261,
          1.0020316842083037,
          0.99448757983145,
          0.9960768449927639,
          0.9930847099668337,
          1.000226592913972,
          0.9915248756418404,
          0.9921233026470268,
          0.9914758242479729,
          0.9908872075215605,
          0.9861586531527134,
          0.9893077526390202,
          0.9979604185172838,
          0.9898178871352443,
          0.9844712852036641,
          0.9954195563149365,
          0.9860703606437514,
          0.9964398253073848,
          0.9867767007154463,
          0.9949486629338068,
          0.9806354662032094,
          0.9736505477164479,
          0.9802528653310414,
          0.9743765083456902,
          0.983715893738102,
          0.9674406412527962,
          0.9736603579952213,
          0.9667833525749691,
          0.9760957597007531,
          0.9721115602338487,
          0.9703567466182315,
          0.9700697959641054,
          0.9473896577245241,
          0.9513517840641883,
          0.9330973078363206,
          0.9157588663889329,
          0.9056604106764186,
          0.893431898185199,
          0.8923282418231757,
          0.8862912415229075,
          0.8925158634047196,
          0.8834217349816467,
          0.8843267331985059,
          0.8895911740453576,
          0.8916108651878605,
          0.8950432364737532,
          0.9032875494980682,
          0.9179220328584989,
          0.9378319936294013,
          0.939741319135702,
          0.962366274557182,
          0.9598940843062493,
          0.963591333119028,
          0.9745727139211611,
          0.9774311838988019,
          0.9832143432358044,
          0.9807642261121123,
          0.9904543289706779,
          0.9871875061390887,
          0.9988973001401572,
          0.9989745560854986,
          0.9893175629177938,
          0.993665968984166,
          0.989560367317439,
          0.9995594939573711,
          0.9867018973397984,
          0.9999016274295983,
          0.9951227953820371,
          0.9936438958569257,
          0.9914145100056383,
          0.9929265192216102,
          0.9965244389618069,
          0.9975618759421088,
          0.9940081024563934,
          1.0028373533525807,
          0.9998022983570163,
          1.0015350388453932,
          0.9919884113138904,
          0.9929927386033319,
          1.0071747228553327,
          0.9986434591768917,
          1.0090288655435322,
          1.0033119255882508,
          1.006667040928802,
          1.0021751595353667,
          1.0022303423534678,
          1.0015902216634944,
          1.0001002855747627,
          1.0046363132226785,
          0.9940743218381147,
          1.0096910593607464,
          1.003036011497745,
          1.0069539915829282,
          1.003411254660833,
          0.9974073640514254,
          1.0168868988411388,
          1.0004093093561293,
          1.0072299056734335,
          1.0026386952074164,
          1.00656771185622,
          1.0087088051985453
         ]
        }
       ],
       "layout": {
        "template": {
         "data": {
          "bar": [
           {
            "error_x": {
             "color": "#2a3f5f"
            },
            "error_y": {
             "color": "#2a3f5f"
            },
            "marker": {
             "line": {
              "color": "#E5ECF6",
              "width": 0.5
             }
            },
            "type": "bar"
           }
          ],
          "barpolar": [
           {
            "marker": {
             "line": {
              "color": "#E5ECF6",
              "width": 0.5
             }
            },
            "type": "barpolar"
           }
          ],
          "carpet": [
           {
            "aaxis": {
             "endlinecolor": "#2a3f5f",
             "gridcolor": "white",
             "linecolor": "white",
             "minorgridcolor": "white",
             "startlinecolor": "#2a3f5f"
            },
            "baxis": {
             "endlinecolor": "#2a3f5f",
             "gridcolor": "white",
             "linecolor": "white",
             "minorgridcolor": "white",
             "startlinecolor": "#2a3f5f"
            },
            "type": "carpet"
           }
          ],
          "choropleth": [
           {
            "colorbar": {
             "outlinewidth": 0,
             "ticks": ""
            },
            "type": "choropleth"
           }
          ],
          "contour": [
           {
            "colorbar": {
             "outlinewidth": 0,
             "ticks": ""
            },
            "colorscale": [
             [
              0,
              "#0d0887"
             ],
             [
              0.1111111111111111,
              "#46039f"
             ],
             [
              0.2222222222222222,
              "#7201a8"
             ],
             [
              0.3333333333333333,
              "#9c179e"
             ],
             [
              0.4444444444444444,
              "#bd3786"
             ],
             [
              0.5555555555555556,
              "#d8576b"
             ],
             [
              0.6666666666666666,
              "#ed7953"
             ],
             [
              0.7777777777777778,
              "#fb9f3a"
             ],
             [
              0.8888888888888888,
              "#fdca26"
             ],
             [
              1,
              "#f0f921"
             ]
            ],
            "type": "contour"
           }
          ],
          "contourcarpet": [
           {
            "colorbar": {
             "outlinewidth": 0,
             "ticks": ""
            },
            "type": "contourcarpet"
           }
          ],
          "heatmap": [
           {
            "colorbar": {
             "outlinewidth": 0,
             "ticks": ""
            },
            "colorscale": [
             [
              0,
              "#0d0887"
             ],
             [
              0.1111111111111111,
              "#46039f"
             ],
             [
              0.2222222222222222,
              "#7201a8"
             ],
             [
              0.3333333333333333,
              "#9c179e"
             ],
             [
              0.4444444444444444,
              "#bd3786"
             ],
             [
              0.5555555555555556,
              "#d8576b"
             ],
             [
              0.6666666666666666,
              "#ed7953"
             ],
             [
              0.7777777777777778,
              "#fb9f3a"
             ],
             [
              0.8888888888888888,
              "#fdca26"
             ],
             [
              1,
              "#f0f921"
             ]
            ],
            "type": "heatmap"
           }
          ],
          "heatmapgl": [
           {
            "colorbar": {
             "outlinewidth": 0,
             "ticks": ""
            },
            "colorscale": [
             [
              0,
              "#0d0887"
             ],
             [
              0.1111111111111111,
              "#46039f"
             ],
             [
              0.2222222222222222,
              "#7201a8"
             ],
             [
              0.3333333333333333,
              "#9c179e"
             ],
             [
              0.4444444444444444,
              "#bd3786"
             ],
             [
              0.5555555555555556,
              "#d8576b"
             ],
             [
              0.6666666666666666,
              "#ed7953"
             ],
             [
              0.7777777777777778,
              "#fb9f3a"
             ],
             [
              0.8888888888888888,
              "#fdca26"
             ],
             [
              1,
              "#f0f921"
             ]
            ],
            "type": "heatmapgl"
           }
          ],
          "histogram": [
           {
            "marker": {
             "colorbar": {
              "outlinewidth": 0,
              "ticks": ""
             }
            },
            "type": "histogram"
           }
          ],
          "histogram2d": [
           {
            "colorbar": {
             "outlinewidth": 0,
             "ticks": ""
            },
            "colorscale": [
             [
              0,
              "#0d0887"
             ],
             [
              0.1111111111111111,
              "#46039f"
             ],
             [
              0.2222222222222222,
              "#7201a8"
             ],
             [
              0.3333333333333333,
              "#9c179e"
             ],
             [
              0.4444444444444444,
              "#bd3786"
             ],
             [
              0.5555555555555556,
              "#d8576b"
             ],
             [
              0.6666666666666666,
              "#ed7953"
             ],
             [
              0.7777777777777778,
              "#fb9f3a"
             ],
             [
              0.8888888888888888,
              "#fdca26"
             ],
             [
              1,
              "#f0f921"
             ]
            ],
            "type": "histogram2d"
           }
          ],
          "histogram2dcontour": [
           {
            "colorbar": {
             "outlinewidth": 0,
             "ticks": ""
            },
            "colorscale": [
             [
              0,
              "#0d0887"
             ],
             [
              0.1111111111111111,
              "#46039f"
             ],
             [
              0.2222222222222222,
              "#7201a8"
             ],
             [
              0.3333333333333333,
              "#9c179e"
             ],
             [
              0.4444444444444444,
              "#bd3786"
             ],
             [
              0.5555555555555556,
              "#d8576b"
             ],
             [
              0.6666666666666666,
              "#ed7953"
             ],
             [
              0.7777777777777778,
              "#fb9f3a"
             ],
             [
              0.8888888888888888,
              "#fdca26"
             ],
             [
              1,
              "#f0f921"
             ]
            ],
            "type": "histogram2dcontour"
           }
          ],
          "mesh3d": [
           {
            "colorbar": {
             "outlinewidth": 0,
             "ticks": ""
            },
            "type": "mesh3d"
           }
          ],
          "parcoords": [
           {
            "line": {
             "colorbar": {
              "outlinewidth": 0,
              "ticks": ""
             }
            },
            "type": "parcoords"
           }
          ],
          "scatter": [
           {
            "marker": {
             "colorbar": {
              "outlinewidth": 0,
              "ticks": ""
             }
            },
            "type": "scatter"
           }
          ],
          "scatter3d": [
           {
            "line": {
             "colorbar": {
              "outlinewidth": 0,
              "ticks": ""
             }
            },
            "marker": {
             "colorbar": {
              "outlinewidth": 0,
              "ticks": ""
             }
            },
            "type": "scatter3d"
           }
          ],
          "scattercarpet": [
           {
            "marker": {
             "colorbar": {
              "outlinewidth": 0,
              "ticks": ""
             }
            },
            "type": "scattercarpet"
           }
          ],
          "scattergeo": [
           {
            "marker": {
             "colorbar": {
              "outlinewidth": 0,
              "ticks": ""
             }
            },
            "type": "scattergeo"
           }
          ],
          "scattergl": [
           {
            "marker": {
             "colorbar": {
              "outlinewidth": 0,
              "ticks": ""
             }
            },
            "type": "scattergl"
           }
          ],
          "scattermapbox": [
           {
            "marker": {
             "colorbar": {
              "outlinewidth": 0,
              "ticks": ""
             }
            },
            "type": "scattermapbox"
           }
          ],
          "scatterpolar": [
           {
            "marker": {
             "colorbar": {
              "outlinewidth": 0,
              "ticks": ""
             }
            },
            "type": "scatterpolar"
           }
          ],
          "scatterpolargl": [
           {
            "marker": {
             "colorbar": {
              "outlinewidth": 0,
              "ticks": ""
             }
            },
            "type": "scatterpolargl"
           }
          ],
          "scatterternary": [
           {
            "marker": {
             "colorbar": {
              "outlinewidth": 0,
              "ticks": ""
             }
            },
            "type": "scatterternary"
           }
          ],
          "surface": [
           {
            "colorbar": {
             "outlinewidth": 0,
             "ticks": ""
            },
            "colorscale": [
             [
              0,
              "#0d0887"
             ],
             [
              0.1111111111111111,
              "#46039f"
             ],
             [
              0.2222222222222222,
              "#7201a8"
             ],
             [
              0.3333333333333333,
              "#9c179e"
             ],
             [
              0.4444444444444444,
              "#bd3786"
             ],
             [
              0.5555555555555556,
              "#d8576b"
             ],
             [
              0.6666666666666666,
              "#ed7953"
             ],
             [
              0.7777777777777778,
              "#fb9f3a"
             ],
             [
              0.8888888888888888,
              "#fdca26"
             ],
             [
              1,
              "#f0f921"
             ]
            ],
            "type": "surface"
           }
          ],
          "table": [
           {
            "cells": {
             "fill": {
              "color": "#EBF0F8"
             },
             "line": {
              "color": "white"
             }
            },
            "header": {
             "fill": {
              "color": "#C8D4E3"
             },
             "line": {
              "color": "white"
             }
            },
            "type": "table"
           }
          ]
         },
         "layout": {
          "annotationdefaults": {
           "arrowcolor": "#2a3f5f",
           "arrowhead": 0,
           "arrowwidth": 1
          },
          "colorscale": {
           "diverging": [
            [
             0,
             "#8e0152"
            ],
            [
             0.1,
             "#c51b7d"
            ],
            [
             0.2,
             "#de77ae"
            ],
            [
             0.3,
             "#f1b6da"
            ],
            [
             0.4,
             "#fde0ef"
            ],
            [
             0.5,
             "#f7f7f7"
            ],
            [
             0.6,
             "#e6f5d0"
            ],
            [
             0.7,
             "#b8e186"
            ],
            [
             0.8,
             "#7fbc41"
            ],
            [
             0.9,
             "#4d9221"
            ],
            [
             1,
             "#276419"
            ]
           ],
           "sequential": [
            [
             0,
             "#0d0887"
            ],
            [
             0.1111111111111111,
             "#46039f"
            ],
            [
             0.2222222222222222,
             "#7201a8"
            ],
            [
             0.3333333333333333,
             "#9c179e"
            ],
            [
             0.4444444444444444,
             "#bd3786"
            ],
            [
             0.5555555555555556,
             "#d8576b"
            ],
            [
             0.6666666666666666,
             "#ed7953"
            ],
            [
             0.7777777777777778,
             "#fb9f3a"
            ],
            [
             0.8888888888888888,
             "#fdca26"
            ],
            [
             1,
             "#f0f921"
            ]
           ],
           "sequentialminus": [
            [
             0,
             "#0d0887"
            ],
            [
             0.1111111111111111,
             "#46039f"
            ],
            [
             0.2222222222222222,
             "#7201a8"
            ],
            [
             0.3333333333333333,
             "#9c179e"
            ],
            [
             0.4444444444444444,
             "#bd3786"
            ],
            [
             0.5555555555555556,
             "#d8576b"
            ],
            [
             0.6666666666666666,
             "#ed7953"
            ],
            [
             0.7777777777777778,
             "#fb9f3a"
            ],
            [
             0.8888888888888888,
             "#fdca26"
            ],
            [
             1,
             "#f0f921"
            ]
           ]
          },
          "colorway": [
           "#636efa",
           "#EF553B",
           "#00cc96",
           "#ab63fa",
           "#FFA15A",
           "#19d3f3",
           "#FF6692",
           "#B6E880",
           "#FF97FF",
           "#FECB52"
          ],
          "font": {
           "color": "#2a3f5f"
          },
          "geo": {
           "bgcolor": "white",
           "lakecolor": "white",
           "landcolor": "#E5ECF6",
           "showlakes": true,
           "showland": true,
           "subunitcolor": "white"
          },
          "hoverlabel": {
           "align": "left"
          },
          "hovermode": "closest",
          "mapbox": {
           "style": "light"
          },
          "paper_bgcolor": "white",
          "plot_bgcolor": "#E5ECF6",
          "polar": {
           "angularaxis": {
            "gridcolor": "white",
            "linecolor": "white",
            "ticks": ""
           },
           "bgcolor": "#E5ECF6",
           "radialaxis": {
            "gridcolor": "white",
            "linecolor": "white",
            "ticks": ""
           }
          },
          "scene": {
           "xaxis": {
            "backgroundcolor": "#E5ECF6",
            "gridcolor": "white",
            "gridwidth": 2,
            "linecolor": "white",
            "showbackground": true,
            "ticks": "",
            "zerolinecolor": "white"
           },
           "yaxis": {
            "backgroundcolor": "#E5ECF6",
            "gridcolor": "white",
            "gridwidth": 2,
            "linecolor": "white",
            "showbackground": true,
            "ticks": "",
            "zerolinecolor": "white"
           },
           "zaxis": {
            "backgroundcolor": "#E5ECF6",
            "gridcolor": "white",
            "gridwidth": 2,
            "linecolor": "white",
            "showbackground": true,
            "ticks": "",
            "zerolinecolor": "white"
           }
          },
          "shapedefaults": {
           "line": {
            "color": "#2a3f5f"
           }
          },
          "ternary": {
           "aaxis": {
            "gridcolor": "white",
            "linecolor": "white",
            "ticks": ""
           },
           "baxis": {
            "gridcolor": "white",
            "linecolor": "white",
            "ticks": ""
           },
           "bgcolor": "#E5ECF6",
           "caxis": {
            "gridcolor": "white",
            "linecolor": "white",
            "ticks": ""
           }
          },
          "title": {
           "x": 0.05
          },
          "xaxis": {
           "automargin": true,
           "gridcolor": "white",
           "linecolor": "white",
           "ticks": "",
           "zerolinecolor": "white",
           "zerolinewidth": 2
          },
          "yaxis": {
           "automargin": true,
           "gridcolor": "white",
           "linecolor": "white",
           "ticks": "",
           "zerolinecolor": "white",
           "zerolinewidth": 2
          }
         }
        },
        "title": {
         "text": "ODMR"
        },
        "xaxis": {
         "title": {
          "text": "Frequency (Hz)"
         }
        },
        "yaxis": {
         "title": {
          "text": "Counts"
         }
        }
       }
      },
      "text/html": [
       "<div>\n",
       "        \n",
       "        \n",
       "            <div id=\"78a5eb17-1cf8-484d-b597-d836bb4f5ed5\" class=\"plotly-graph-div\" style=\"height:525px; width:100%;\"></div>\n",
       "            <script type=\"text/javascript\">\n",
       "                require([\"plotly\"], function(Plotly) {\n",
       "                    window.PLOTLYENV=window.PLOTLYENV || {};\n",
       "                    \n",
       "                if (document.getElementById(\"78a5eb17-1cf8-484d-b597-d836bb4f5ed5\")) {\n",
       "                    Plotly.newPlot(\n",
       "                        '78a5eb17-1cf8-484d-b597-d836bb4f5ed5',\n",
       "                        [{\"mode\": \"lines+markers\", \"name\": \"1\", \"type\": \"scatter\", \"x\": [2700000000.0, 2701000000.0, 2702000000.0, 2703000000.0, 2704000000.0, 2705000000.0, 2706000000.0, 2707000000.0, 2708000000.0, 2709000000.0, 2710000000.0, 2711000000.0, 2712000000.0, 2713000000.0, 2714000000.0, 2715000000.0, 2716000000.0, 2717000000.0, 2718000000.0, 2719000000.0, 2720000000.0, 2721000000.0, 2722000000.0, 2723000000.0, 2724000000.0, 2725000000.0, 2726000000.0, 2727000000.0, 2728000000.0, 2729000000.0, 2730000000.0, 2731000000.0, 2732000000.0, 2733000000.0, 2734000000.0, 2735000000.0, 2736000000.0, 2737000000.0, 2738000000.0, 2739000000.0, 2740000000.0, 2741000000.0, 2742000000.0, 2743000000.0, 2744000000.0, 2745000000.0, 2746000000.0, 2747000000.0, 2748000000.0, 2749000000.0, 2750000000.0, 2751000000.0, 2752000000.0, 2753000000.0, 2754000000.0, 2755000000.0, 2756000000.0, 2757000000.0, 2758000000.0, 2759000000.0, 2760000000.0, 2761000000.0, 2762000000.0, 2763000000.0, 2764000000.0, 2765000000.0, 2766000000.0, 2767000000.0, 2768000000.0, 2769000000.0, 2770000000.0, 2771000000.0, 2772000000.0, 2773000000.0, 2774000000.0, 2775000000.0, 2776000000.0, 2777000000.0, 2778000000.0, 2779000000.0, 2780000000.0, 2781000000.0, 2782000000.0, 2783000000.0, 2784000000.0, 2785000000.0, 2786000000.0, 2787000000.0, 2788000000.0, 2789000000.0, 2790000000.0, 2791000000.0, 2792000000.0, 2793000000.0, 2794000000.0, 2795000000.0, 2796000000.0, 2797000000.0, 2798000000.0, 2799000000.0, 2800000000.0], \"y\": [1.003159866267261, 1.0020316842083037, 0.99448757983145, 0.9960768449927639, 0.9930847099668337, 1.000226592913972, 0.9915248756418404, 0.9921233026470268, 0.9914758242479729, 0.9908872075215605, 0.9861586531527134, 0.9893077526390202, 0.9979604185172838, 0.9898178871352443, 0.9844712852036641, 0.9954195563149365, 0.9860703606437514, 0.9964398253073848, 0.9867767007154463, 0.9949486629338068, 0.9806354662032094, 0.9736505477164479, 0.9802528653310414, 0.9743765083456902, 0.983715893738102, 0.9674406412527962, 0.9736603579952213, 0.9667833525749691, 0.9760957597007531, 0.9721115602338487, 0.9703567466182315, 0.9700697959641054, 0.9473896577245241, 0.9513517840641883, 0.9330973078363206, 0.9157588663889329, 0.9056604106764186, 0.893431898185199, 0.8923282418231757, 0.8862912415229075, 0.8925158634047196, 0.8834217349816467, 0.8843267331985059, 0.8895911740453576, 0.8916108651878605, 0.8950432364737532, 0.9032875494980682, 0.9179220328584989, 0.9378319936294013, 0.939741319135702, 0.962366274557182, 0.9598940843062493, 0.963591333119028, 0.9745727139211611, 0.9774311838988019, 0.9832143432358044, 0.9807642261121123, 0.9904543289706779, 0.9871875061390887, 0.9988973001401572, 0.9989745560854986, 0.9893175629177938, 0.993665968984166, 0.989560367317439, 0.9995594939573711, 0.9867018973397984, 0.9999016274295983, 0.9951227953820371, 0.9936438958569257, 0.9914145100056383, 0.9929265192216102, 0.9965244389618069, 0.9975618759421088, 0.9940081024563934, 1.0028373533525807, 0.9998022983570163, 1.0015350388453932, 0.9919884113138904, 0.9929927386033319, 1.0071747228553327, 0.9986434591768917, 1.0090288655435322, 1.0033119255882508, 1.006667040928802, 1.0021751595353667, 1.0022303423534678, 1.0015902216634944, 1.0001002855747627, 1.0046363132226785, 0.9940743218381147, 1.0096910593607464, 1.003036011497745, 1.0069539915829282, 1.003411254660833, 0.9974073640514254, 1.0168868988411388, 1.0004093093561293, 1.0072299056734335, 1.0026386952074164, 1.00656771185622, 1.0087088051985453]}],\n",
       "                        {\"template\": {\"data\": {\"bar\": [{\"error_x\": {\"color\": \"#2a3f5f\"}, \"error_y\": {\"color\": \"#2a3f5f\"}, \"marker\": {\"line\": {\"color\": \"#E5ECF6\", \"width\": 0.5}}, \"type\": \"bar\"}], \"barpolar\": [{\"marker\": {\"line\": {\"color\": \"#E5ECF6\", \"width\": 0.5}}, \"type\": \"barpolar\"}], \"carpet\": [{\"aaxis\": {\"endlinecolor\": \"#2a3f5f\", \"gridcolor\": \"white\", \"linecolor\": \"white\", \"minorgridcolor\": \"white\", \"startlinecolor\": \"#2a3f5f\"}, \"baxis\": {\"endlinecolor\": \"#2a3f5f\", \"gridcolor\": \"white\", \"linecolor\": \"white\", \"minorgridcolor\": \"white\", \"startlinecolor\": \"#2a3f5f\"}, \"type\": \"carpet\"}], \"choropleth\": [{\"colorbar\": {\"outlinewidth\": 0, \"ticks\": \"\"}, \"type\": \"choropleth\"}], \"contour\": [{\"colorbar\": {\"outlinewidth\": 0, \"ticks\": \"\"}, \"colorscale\": [[0.0, \"#0d0887\"], [0.1111111111111111, \"#46039f\"], [0.2222222222222222, \"#7201a8\"], [0.3333333333333333, \"#9c179e\"], [0.4444444444444444, \"#bd3786\"], [0.5555555555555556, \"#d8576b\"], [0.6666666666666666, \"#ed7953\"], [0.7777777777777778, \"#fb9f3a\"], [0.8888888888888888, \"#fdca26\"], [1.0, \"#f0f921\"]], \"type\": \"contour\"}], \"contourcarpet\": [{\"colorbar\": {\"outlinewidth\": 0, \"ticks\": \"\"}, \"type\": \"contourcarpet\"}], \"heatmap\": [{\"colorbar\": {\"outlinewidth\": 0, \"ticks\": \"\"}, \"colorscale\": [[0.0, \"#0d0887\"], [0.1111111111111111, \"#46039f\"], [0.2222222222222222, \"#7201a8\"], [0.3333333333333333, \"#9c179e\"], [0.4444444444444444, \"#bd3786\"], [0.5555555555555556, \"#d8576b\"], [0.6666666666666666, \"#ed7953\"], [0.7777777777777778, \"#fb9f3a\"], [0.8888888888888888, \"#fdca26\"], [1.0, \"#f0f921\"]], \"type\": \"heatmap\"}], \"heatmapgl\": [{\"colorbar\": {\"outlinewidth\": 0, \"ticks\": \"\"}, \"colorscale\": [[0.0, \"#0d0887\"], [0.1111111111111111, \"#46039f\"], [0.2222222222222222, \"#7201a8\"], [0.3333333333333333, \"#9c179e\"], [0.4444444444444444, \"#bd3786\"], [0.5555555555555556, \"#d8576b\"], [0.6666666666666666, \"#ed7953\"], [0.7777777777777778, \"#fb9f3a\"], [0.8888888888888888, \"#fdca26\"], [1.0, \"#f0f921\"]], \"type\": \"heatmapgl\"}], \"histogram\": [{\"marker\": {\"colorbar\": {\"outlinewidth\": 0, \"ticks\": \"\"}}, \"type\": \"histogram\"}], \"histogram2d\": [{\"colorbar\": {\"outlinewidth\": 0, \"ticks\": \"\"}, \"colorscale\": [[0.0, \"#0d0887\"], [0.1111111111111111, \"#46039f\"], [0.2222222222222222, \"#7201a8\"], [0.3333333333333333, \"#9c179e\"], [0.4444444444444444, \"#bd3786\"], [0.5555555555555556, \"#d8576b\"], [0.6666666666666666, \"#ed7953\"], [0.7777777777777778, \"#fb9f3a\"], [0.8888888888888888, \"#fdca26\"], [1.0, \"#f0f921\"]], \"type\": \"histogram2d\"}], \"histogram2dcontour\": [{\"colorbar\": {\"outlinewidth\": 0, \"ticks\": \"\"}, \"colorscale\": [[0.0, \"#0d0887\"], [0.1111111111111111, \"#46039f\"], [0.2222222222222222, \"#7201a8\"], [0.3333333333333333, \"#9c179e\"], [0.4444444444444444, \"#bd3786\"], [0.5555555555555556, \"#d8576b\"], [0.6666666666666666, \"#ed7953\"], [0.7777777777777778, \"#fb9f3a\"], [0.8888888888888888, \"#fdca26\"], [1.0, \"#f0f921\"]], \"type\": \"histogram2dcontour\"}], \"mesh3d\": [{\"colorbar\": {\"outlinewidth\": 0, \"ticks\": \"\"}, \"type\": \"mesh3d\"}], \"parcoords\": [{\"line\": {\"colorbar\": {\"outlinewidth\": 0, \"ticks\": \"\"}}, \"type\": \"parcoords\"}], \"scatter\": [{\"marker\": {\"colorbar\": {\"outlinewidth\": 0, \"ticks\": \"\"}}, \"type\": \"scatter\"}], \"scatter3d\": [{\"line\": {\"colorbar\": {\"outlinewidth\": 0, \"ticks\": \"\"}}, \"marker\": {\"colorbar\": {\"outlinewidth\": 0, \"ticks\": \"\"}}, \"type\": \"scatter3d\"}], \"scattercarpet\": [{\"marker\": {\"colorbar\": {\"outlinewidth\": 0, \"ticks\": \"\"}}, \"type\": \"scattercarpet\"}], \"scattergeo\": [{\"marker\": {\"colorbar\": {\"outlinewidth\": 0, \"ticks\": \"\"}}, \"type\": \"scattergeo\"}], \"scattergl\": [{\"marker\": {\"colorbar\": {\"outlinewidth\": 0, \"ticks\": \"\"}}, \"type\": \"scattergl\"}], \"scattermapbox\": [{\"marker\": {\"colorbar\": {\"outlinewidth\": 0, \"ticks\": \"\"}}, \"type\": \"scattermapbox\"}], \"scatterpolar\": [{\"marker\": {\"colorbar\": {\"outlinewidth\": 0, \"ticks\": \"\"}}, \"type\": \"scatterpolar\"}], \"scatterpolargl\": [{\"marker\": {\"colorbar\": {\"outlinewidth\": 0, \"ticks\": \"\"}}, \"type\": \"scatterpolargl\"}], \"scatterternary\": [{\"marker\": {\"colorbar\": {\"outlinewidth\": 0, \"ticks\": \"\"}}, \"type\": \"scatterternary\"}], \"surface\": [{\"colorbar\": {\"outlinewidth\": 0, \"ticks\": \"\"}, \"colorscale\": [[0.0, \"#0d0887\"], [0.1111111111111111, \"#46039f\"], [0.2222222222222222, \"#7201a8\"], [0.3333333333333333, \"#9c179e\"], [0.4444444444444444, \"#bd3786\"], [0.5555555555555556, \"#d8576b\"], [0.6666666666666666, \"#ed7953\"], [0.7777777777777778, \"#fb9f3a\"], [0.8888888888888888, \"#fdca26\"], [1.0, \"#f0f921\"]], \"type\": \"surface\"}], \"table\": [{\"cells\": {\"fill\": {\"color\": \"#EBF0F8\"}, \"line\": {\"color\": \"white\"}}, \"header\": {\"fill\": {\"color\": \"#C8D4E3\"}, \"line\": {\"color\": \"white\"}}, \"type\": \"table\"}]}, \"layout\": {\"annotationdefaults\": {\"arrowcolor\": \"#2a3f5f\", \"arrowhead\": 0, \"arrowwidth\": 1}, \"colorscale\": {\"diverging\": [[0, \"#8e0152\"], [0.1, \"#c51b7d\"], [0.2, \"#de77ae\"], [0.3, \"#f1b6da\"], [0.4, \"#fde0ef\"], [0.5, \"#f7f7f7\"], [0.6, \"#e6f5d0\"], [0.7, \"#b8e186\"], [0.8, \"#7fbc41\"], [0.9, \"#4d9221\"], [1, \"#276419\"]], \"sequential\": [[0.0, \"#0d0887\"], [0.1111111111111111, \"#46039f\"], [0.2222222222222222, \"#7201a8\"], [0.3333333333333333, \"#9c179e\"], [0.4444444444444444, \"#bd3786\"], [0.5555555555555556, \"#d8576b\"], [0.6666666666666666, \"#ed7953\"], [0.7777777777777778, \"#fb9f3a\"], [0.8888888888888888, \"#fdca26\"], [1.0, \"#f0f921\"]], \"sequentialminus\": [[0.0, \"#0d0887\"], [0.1111111111111111, \"#46039f\"], [0.2222222222222222, \"#7201a8\"], [0.3333333333333333, \"#9c179e\"], [0.4444444444444444, \"#bd3786\"], [0.5555555555555556, \"#d8576b\"], [0.6666666666666666, \"#ed7953\"], [0.7777777777777778, \"#fb9f3a\"], [0.8888888888888888, \"#fdca26\"], [1.0, \"#f0f921\"]]}, \"colorway\": [\"#636efa\", \"#EF553B\", \"#00cc96\", \"#ab63fa\", \"#FFA15A\", \"#19d3f3\", \"#FF6692\", \"#B6E880\", \"#FF97FF\", \"#FECB52\"], \"font\": {\"color\": \"#2a3f5f\"}, \"geo\": {\"bgcolor\": \"white\", \"lakecolor\": \"white\", \"landcolor\": \"#E5ECF6\", \"showlakes\": true, \"showland\": true, \"subunitcolor\": \"white\"}, \"hoverlabel\": {\"align\": \"left\"}, \"hovermode\": \"closest\", \"mapbox\": {\"style\": \"light\"}, \"paper_bgcolor\": \"white\", \"plot_bgcolor\": \"#E5ECF6\", \"polar\": {\"angularaxis\": {\"gridcolor\": \"white\", \"linecolor\": \"white\", \"ticks\": \"\"}, \"bgcolor\": \"#E5ECF6\", \"radialaxis\": {\"gridcolor\": \"white\", \"linecolor\": \"white\", \"ticks\": \"\"}}, \"scene\": {\"xaxis\": {\"backgroundcolor\": \"#E5ECF6\", \"gridcolor\": \"white\", \"gridwidth\": 2, \"linecolor\": \"white\", \"showbackground\": true, \"ticks\": \"\", \"zerolinecolor\": \"white\"}, \"yaxis\": {\"backgroundcolor\": \"#E5ECF6\", \"gridcolor\": \"white\", \"gridwidth\": 2, \"linecolor\": \"white\", \"showbackground\": true, \"ticks\": \"\", \"zerolinecolor\": \"white\"}, \"zaxis\": {\"backgroundcolor\": \"#E5ECF6\", \"gridcolor\": \"white\", \"gridwidth\": 2, \"linecolor\": \"white\", \"showbackground\": true, \"ticks\": \"\", \"zerolinecolor\": \"white\"}}, \"shapedefaults\": {\"line\": {\"color\": \"#2a3f5f\"}}, \"ternary\": {\"aaxis\": {\"gridcolor\": \"white\", \"linecolor\": \"white\", \"ticks\": \"\"}, \"baxis\": {\"gridcolor\": \"white\", \"linecolor\": \"white\", \"ticks\": \"\"}, \"bgcolor\": \"#E5ECF6\", \"caxis\": {\"gridcolor\": \"white\", \"linecolor\": \"white\", \"ticks\": \"\"}}, \"title\": {\"x\": 0.05}, \"xaxis\": {\"automargin\": true, \"gridcolor\": \"white\", \"linecolor\": \"white\", \"ticks\": \"\", \"zerolinecolor\": \"white\", \"zerolinewidth\": 2}, \"yaxis\": {\"automargin\": true, \"gridcolor\": \"white\", \"linecolor\": \"white\", \"ticks\": \"\", \"zerolinecolor\": \"white\", \"zerolinewidth\": 2}}}, \"title\": {\"text\": \"ODMR\"}, \"xaxis\": {\"title\": {\"text\": \"Frequency (Hz)\"}}, \"yaxis\": {\"title\": {\"text\": \"Counts\"}}},\n",
       "                        {\"responsive\": true}\n",
       "                    ).then(function(){\n",
       "                            \n",
       "var gd = document.getElementById('78a5eb17-1cf8-484d-b597-d836bb4f5ed5');\n",
       "var x = new MutationObserver(function (mutations, observer) {{\n",
       "        var display = window.getComputedStyle(gd).display;\n",
       "        if (!display || display === 'none') {{\n",
       "            console.log([gd, 'removed!']);\n",
       "            Plotly.purge(gd);\n",
       "            observer.disconnect();\n",
       "        }}\n",
       "}});\n",
       "\n",
       "// Listen for the removal of the full notebook cells\n",
       "var notebookContainer = gd.closest('#notebook-container');\n",
       "if (notebookContainer) {{\n",
       "    x.observe(notebookContainer, {childList: true});\n",
       "}}\n",
       "\n",
       "// Listen for the clearing of the current output cell\n",
       "var outputEl = gd.closest('.output');\n",
       "if (outputEl) {{\n",
       "    x.observe(outputEl, {childList: true});\n",
       "}}\n",
       "\n",
       "                        })\n",
       "                };\n",
       "                });\n",
       "            </script>\n",
       "        </div>"
      ]
     },
     "metadata": {},
     "output_type": "display_data"
    }
   ],
   "source": [
    "plotdata()"
   ]
  },
  {
   "cell_type": "code",
   "execution_count": null,
   "metadata": {},
   "outputs": [],
   "source": []
  }
 ],
 "metadata": {
  "kernelspec": {
   "display_name": "Python 3",
   "language": "python",
   "name": "python3"
  },
  "language_info": {
   "codemirror_mode": {
    "name": "ipython",
    "version": 3
   },
   "file_extension": ".py",
   "mimetype": "text/x-python",
   "name": "python",
   "nbconvert_exporter": "python",
   "pygments_lexer": "ipython3",
   "version": "3.7.3"
  },
  "pycharm": {
   "stem_cell": {
    "cell_type": "raw",
    "metadata": {
     "collapsed": false
    },
    "source": []
   }
  }
 },
 "nbformat": 4,
 "nbformat_minor": 4
}
