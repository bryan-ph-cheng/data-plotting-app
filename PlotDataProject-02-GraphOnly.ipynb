{
 "cells": [
  {
   "cell_type": "code",
   "execution_count": 1,
   "metadata": {},
   "outputs": [
    {
     "name": "stdout",
     "output_type": "stream",
     "text": [
      "pyqtgraph plotting not supported, try \"from qcodes.plots.pyqtgraph import QtPlot\" to see the full error\n"
     ]
    }
   ],
   "source": [
    "import qcodes as qc\n",
    "import numpy as np\n",
    "import matplotlib \n",
    "import matplotlib.pyplot as plt\n",
    "import qcodes.dataset.experiment_container as exc\n",
    "import dash\n",
    "import dash_core_components as dcc\n",
    "import dash_html_components as html\n",
    "from qcodes.dataset.data_set import load_by_id\n",
    "from qcodes.dataset.data_export import get_data_by_id\n",
    "from qcodes import load_experiment\n",
    "from dash.dependencies import Input, Output, State\n",
    "from plotly import tools\n",
    "import plotly.io as pio\n",
    "from plotly import graph_objs as go\n",
    "from qcodes.instrument_drivers.rohde_schwarz import SGS100A\n",
    "from time import sleep\n",
    "from qcodes.dataset.measurements import Measurement\n",
    "from scipy.optimize import curve_fit\n",
    "import datetime\n",
    "import scipy.fftpack\n",
    "from scipy import signal\n",
    "from scipy.signal import find_peaks\n",
    "import pdfkit\n",
    "from dash.exceptions import PreventUpdate"
   ]
  },
  {
   "cell_type": "code",
   "execution_count": 2,
   "metadata": {},
   "outputs": [
    {
     "name": "stdout",
     "output_type": "stream",
     "text": [
      "Using config file from //anaconda3/lib/python3.7/site-packages/qcodes/config/qcodesrc.json\n",
      "Database location: ./2019-07-08-frays-final.db\n"
     ]
    }
   ],
   "source": [
    "configuration = qc.config\n",
    "print(f'Using config file from {configuration.current_config_path}')\n",
    "configuration['core']['db_location'] = './2019-07-08-frays-final.db'\n",
    "print(f'Database location: {configuration[\"core\"][\"db_location\"]}')\n",
    "qc.initialise_database()"
   ]
  },
  {
   "cell_type": "code",
   "execution_count": 3,
   "metadata": {},
   "outputs": [],
   "source": [
    "#exc.experiments()"
   ]
  },
  {
   "cell_type": "code",
   "execution_count": 4,
   "metadata": {},
   "outputs": [],
   "source": [
    "def normalizeCounts(countArray, num):\n",
    "    reb_counts = np.squeeze(countArray)/np.mean(np.sort(np.squeeze(countArray))[-num:])\n",
    "    return reb_counts"
   ]
  },
  {
   "cell_type": "code",
   "execution_count": 5,
   "metadata": {},
   "outputs": [],
   "source": [
    "def plotdata(expt, files, normalize, plotcurrent=0, nPi = []): \n",
    "    \"Attribute - expt - can either be 'counting' or 'odmr' or 'pulsedodmr' or 'rabi' or 'ramsey' or 'spinecho' or 'doubleecho' or 'nmr'.\\\n",
    "    If value of plotcurrent is 1 then it will plot the current data. If value of normalize is 1 then it will normalize 'odmr' and 'doubleecho' signal.\"\n",
    "    if plotcurrent == 1:        \n",
    "        filesize = np.size(files) + 1\n",
    "    else:\n",
    "        filesize = np.size(files)  \n",
    "        \n",
    "    plotfun = go.Figure()    \n",
    "    for i in range(filesize):\n",
    "        if plotcurrent == 1 and i == filesize-1:\n",
    "            Data2 = exc.load_last_experiment()\n",
    "            Data2 = Data2.last_data_set()\n",
    "        else:    \n",
    "            Data2 = exc.load_by_id(files[i])\n",
    "        if expt == 'spinecho':\n",
    "            x2 = 2*np.squeeze(Data2.get_data('Time'))\n",
    "            y2 = np.squeeze(Data2.get_data('Rebased_Counts'))\n",
    "            plotfun.layout = go.Layout(xaxis=dict(title='Time (ns)'),yaxis=dict(title='Counts'),title='Spin Echo')                  \n",
    "        elif expt == 'doubleecho':\n",
    "            if nPi == [] or nPi[i] == 1:\n",
    "                x2 = 2*np.squeeze(Data2.get_data('Time'))\n",
    "            else:\n",
    "                x2 = nPi[i]*np.squeeze(Data2.get_data('Time'))\n",
    "            y2ms0 = np.squeeze(Data2.get_data('Act_Counts'))\n",
    "            y2ms1 = np.squeeze(Data2.get_data('Ref_Counts'))\n",
    "            y2 = y2ms0 - y2ms1   \n",
    "            plotfun.layout = go.Layout(xaxis=dict(title='Time (ns)'),yaxis=dict(title='Counts'),title='Spin Echo Double Measure')\n",
    "            if normalize == 1:\n",
    "                y2 = (y2 + max(y2))/(2*max(y2))\n",
    "        elif expt == 'nmr':\n",
    "            x2 = np.squeeze(Data2.get_data('Time'))\n",
    "            y2ms0 = np.squeeze(Data2.get_data('Act_Counts'))\n",
    "            y2ms1 = np.squeeze(Data2.get_data('Ref_Counts'))\n",
    "            y2 = y2ms0 - y2ms1   \n",
    "            plotfun.layout = go.Layout(xaxis=dict(title='Time (ns)'),yaxis=dict(title='Counts'),title='NMR')\n",
    "            if normalize == 1:\n",
    "                y2 = (y2 + max(y2))/(2*max(y2))\n",
    "        elif expt == 'odmr':\n",
    "            x2 = np.squeeze(Data2.get_data('Frequency'))\n",
    "            y2 = np.squeeze(Data2.get_data('Counts'))\n",
    "            plotfun.layout = go.Layout(xaxis=dict(title='Frequency (Hz)'),yaxis=dict(title='Counts'),title='ODMR')\n",
    "            if normalize == 1:\n",
    "                y2 = normalizeCounts(Data2.get_data('Counts'),50)\n",
    "                layout = go.Layout(xaxis=dict(title='Frequency (Hz)'),yaxis=dict(title='Normalized Counts'),title='ODMR')\n",
    "        elif expt == 'pulsedodmr':\n",
    "            x2 = np.squeeze(Data2.get_data('Frequency'))\n",
    "            y2 = np.squeeze(Data2.get_data('Rebased_Counts'))   \n",
    "            plotfun.layout = go.Layout(xaxis=dict(title='Frequency (Hz)'),yaxis=dict(title='Counts'),title='Pulsed ODMR')\n",
    "        elif expt == 'g2':\n",
    "            x2 = np.squeeze(Data2.get_data('Time'))\n",
    "            y2 = np.squeeze(Data2.get_data('Norm_Counts'))\n",
    "            plotfun.layout = go.Layout(xaxis=dict(title='Time dif'), yaxis=dict(title='Normalised Counts'), title='g2 Dip')\n",
    "        else:\n",
    "            x2 = np.squeeze(Data2.get_data('Time'))\n",
    "            y2 = np.squeeze(Data2.get_data('Rebased_Counts'))     \n",
    "            plotfun.layout = go.Layout(xaxis=dict(title='Time (ns)'),yaxis=dict(title='Counts'),title='Rabi')\n",
    "        if plotcurrent == 1 and i == filesize-1:\n",
    "            plotfun.add_scatter(x = x2, y = y2, name = 'Recent Data', mode='lines+markers') \n",
    "        else:       \n",
    "            plotfun.add_scatter(x = x2, y = y2, name = files[i], mode='lines+markers') \n",
    "    return plotfun"
   ]
  },
  {
   "cell_type": "code",
   "execution_count": 6,
   "metadata": {},
   "outputs": [],
   "source": [
    "experimentsList = [exp.name for exp in exc.experiments()]\n",
    "types = [{'label':'Counting', 'value': 'counting'},\n",
    "         {'label':'ODMR', 'value': 'odmr'},\n",
    "         {'label':'Pulsed ODMR', 'value': 'pulsedodmr'},\n",
    "         {'label':'Rabi', 'value': 'rabi'},\n",
    "         {'label':'Ramsey', 'value': 'ramsey'},\n",
    "         {'label':'Spin Echo', 'value': 'spinecho'},\n",
    "         {'label':'Double Echo', 'value': 'doubleecho'},\n",
    "         {'label':'NMR', 'value': 'nmr'}]\n",
    "dataNeeded = {'odmr': ['Frequency','Counts'], \n",
    "              'pulsedodmr': ['Frequency','Rebased_Counts'], \n",
    "              'spinecho': ['Time','Rebased_Counts'],\n",
    "              'doubleecho': ['Time','Act_Counts','Ref_Counts'],\n",
    "              'nmr': ['Time','Act_Counts','Ref_Counts'],\n",
    "              'counting': ['Time','Rebased_Counts'],\n",
    "              'rabi': ['Time','Rebased_Counts'],\n",
    "              'ramsey':['Time','Rebased_Counts']}\n",
    "lastSet = (qc.load_last_experiment()).last_data_set()\n",
    "all_runs = [{'label': str(load_by_id(a)).split('@')[0], 'value': a} for a in range(1,lastSet.run_id)]"
   ]
  },
  {
   "cell_type": "code",
   "execution_count": 15,
   "metadata": {},
   "outputs": [],
   "source": [
    "external_stylesheets = ['https://codepen.io/chriddyp/pen/bWLwgP.css']\n",
    "app = dash.Dash(__name__, external_stylesheets=external_stylesheets)\n",
    "\n",
    "app.layout = html.Div([\n",
    "        html.H2(children='Graph Data'),\n",
    "        html.Div([\n",
    "            html.Label('1) Experiment'), \n",
    "            dcc.Dropdown(id='experiment', \n",
    "                     options=[{'label': experimentsList[o], 'value': o+1} \n",
    "                              for o in range((len(experimentsList)))]),\n",
    "            html.Label('2) Runs'), dcc.Dropdown(id='runs', multi=True),\n",
    "            html.Label('3) Data Type'),dcc.Dropdown(id='data-type', options = types),\n",
    "            html.P(id='type-err', style={'color': 'red'})],\n",
    "            style={'width': '48%', 'display': 'inline-block'}), \n",
    "        html.Div([\n",
    "            html.Label('4) Extra Runs (Optional)'), dcc.Dropdown(id='extra-runs',\n",
    "                                                                 options = all_runs, multi=True),\n",
    "            html.P(id='run-err', style={'color': 'red'}),\n",
    "            html.Label('5) Normalise?'), dcc.RadioItems(id='normalise', \n",
    "                                                    options = [{'label': 'Yes', 'value': 1}, \n",
    "                                                               {'label': 'No', 'value': 0}],\n",
    "                                                   value = 1),\n",
    "            html.Button(id='submit-button', children='Plot!')], \n",
    "            style={'width': '48%', 'float': 'right', 'display': 'inline-block'}),\n",
    "        html.Hr(),\n",
    "        dcc.Graph(style={'height': '700px'},id='graph')],  \n",
    "        style={'columnCount': 1})\n",
    "\n",
    "@app.callback(\n",
    "    Output('runs', 'options'),\n",
    "    [Input('experiment', 'value')])\n",
    "def update_run(selected_experiment):\n",
    "    if selected_experiment is None:\n",
    "        raise PreventUpdate\n",
    "    exper = load_experiment(selected_experiment)\n",
    "    return [{'label': str(exper.data_set(a+1)).split('@')[0], \n",
    "             'value': exper.data_set(a+1).run_id} for a in range(exper.last_counter)]\n",
    "\n",
    "@app.callback(\n",
    "    [Output('graph', 'figure'), Output('type-err','children'), Output('run-err','children')],\n",
    "    [Input('submit-button','n_clicks')],\n",
    "    [State('runs','value'), State('data-type','value'), \n",
    "     State('extra-runs','value'), State('normalise', 'value')])\n",
    "def update_graph(clicks, selected_runs, selected_type, extra_runs, normalised):\n",
    "    if selected_runs is None:\n",
    "        raise PreventUpdate\n",
    "    for a in selected_runs:\n",
    "        params = str(load_by_id(a).parameters).split(',')\n",
    "        for b in dataNeeded[selected_type]:\n",
    "            if (b in params) is False:\n",
    "                return dash.no_update, 'Wrong Data Type!', dash.no_update\n",
    "    if extra_runs != None:\n",
    "        for c in extra_runs:\n",
    "            params_2 = str(load_by_id(c).parameters).split(',')\n",
    "            for d in dataNeeded[selected_type]:\n",
    "                if (d in params_2) is False:\n",
    "                    return dash.no_update, dash.no_update, 'Wrong Run!'\n",
    "        selected_runs.extend(extra_runs)\n",
    "    totaldata = plotdata(selected_type, selected_runs, normalised)\n",
    "    return totaldata, None, None"
   ]
  },
  {
   "cell_type": "code",
   "execution_count": 16,
   "metadata": {},
   "outputs": [
    {
     "name": "stdout",
     "output_type": "stream",
     "text": [
      " * Serving Flask app \"__main__\" (lazy loading)\n",
      " * Environment: production\n",
      "   WARNING: This is a development server. Do not use it in a production deployment.\n",
      "   Use a production WSGI server instead.\n",
      " * Debug mode: off\n"
     ]
    },
    {
     "name": "stderr",
     "output_type": "stream",
     "text": [
      " * Running on http://127.0.0.1:8050/ (Press CTRL+C to quit)\n",
      "127.0.0.1 - - [28/Aug/2019 23:06:15] \"GET / HTTP/1.1\" 200 -\n",
      "127.0.0.1 - - [28/Aug/2019 23:06:15] \"GET /_dash-component-suites/dash_renderer/react@16.8.6.min.js?v=1.0.0&m=1566376284 HTTP/1.1\" 200 -\n",
      "127.0.0.1 - - [28/Aug/2019 23:06:15] \"GET /_dash-component-suites/dash_core_components/highlight.pack.js?v=1.1.1&m=1566376285 HTTP/1.1\" 200 -\n",
      "127.0.0.1 - - [28/Aug/2019 23:06:15] \"GET /_dash-component-suites/dash_renderer/dash_renderer.min.js?v=1.0.0&m=1566376284 HTTP/1.1\" 200 -\n",
      "127.0.0.1 - - [28/Aug/2019 23:06:15] \"GET /_dash-component-suites/dash_renderer/prop-types@15.7.2.min.js?v=1.0.0&m=1566376284 HTTP/1.1\" 200 -\n",
      "127.0.0.1 - - [28/Aug/2019 23:06:15] \"GET /_dash-component-suites/dash_renderer/react-dom@16.8.6.min.js?v=1.0.0&m=1566376284 HTTP/1.1\" 200 -\n",
      "127.0.0.1 - - [28/Aug/2019 23:06:15] \"GET /_dash-component-suites/dash_html_components/dash_html_components.min.js?v=1.0.0&m=1566376287 HTTP/1.1\" 200 -\n",
      "127.0.0.1 - - [28/Aug/2019 23:06:15] \"GET /_dash-component-suites/dash_core_components/dash_core_components.min.js?v=1.1.1&m=1566376285 HTTP/1.1\" 200 -\n",
      "127.0.0.1 - - [28/Aug/2019 23:06:15] \"GET /_dash-component-suites/dash_core_components/plotly-1.49.1.min.js?v=1.1.1&m=1566376285 HTTP/1.1\" 200 -\n",
      "127.0.0.1 - - [28/Aug/2019 23:06:19] \"GET /_dash-dependencies HTTP/1.1\" 200 -\n",
      "127.0.0.1 - - [28/Aug/2019 23:06:19] \"GET /_dash-layout HTTP/1.1\" 200 -\n",
      "127.0.0.1 - - [28/Aug/2019 23:06:19] \"POST /_dash-update-component HTTP/1.1\" 204 -\n",
      "127.0.0.1 - - [28/Aug/2019 23:06:19] \"POST /_dash-update-component HTTP/1.1\" 204 -\n",
      "127.0.0.1 - - [28/Aug/2019 23:08:02] \"POST /_dash-update-component HTTP/1.1\" 200 -\n",
      "127.0.0.1 - - [28/Aug/2019 23:08:07] \"POST /_dash-update-component HTTP/1.1\" 200 -\n",
      "127.0.0.1 - - [28/Aug/2019 23:08:11] \"POST /_dash-update-component HTTP/1.1\" 200 -\n",
      "127.0.0.1 - - [28/Aug/2019 23:08:16] \"POST /_dash-update-component HTTP/1.1\" 200 -\n",
      "127.0.0.1 - - [28/Aug/2019 23:08:20] \"POST /_dash-update-component HTTP/1.1\" 200 -\n",
      "127.0.0.1 - - [28/Aug/2019 23:08:24] \"POST /_dash-update-component HTTP/1.1\" 200 -\n",
      "127.0.0.1 - - [28/Aug/2019 23:08:34] \"POST /_dash-update-component HTTP/1.1\" 204 -\n",
      "127.0.0.1 - - [28/Aug/2019 23:08:36] \"POST /_dash-update-component HTTP/1.1\" 200 -\n",
      "127.0.0.1 - - [28/Aug/2019 23:09:17] \"POST /_dash-update-component HTTP/1.1\" 200 -\n",
      "127.0.0.1 - - [28/Aug/2019 23:10:48] \"POST /_dash-update-component HTTP/1.1\" 200 -\n",
      "127.0.0.1 - - [28/Aug/2019 23:10:51] \"POST /_dash-update-component HTTP/1.1\" 200 -\n",
      "127.0.0.1 - - [28/Aug/2019 23:10:59] \"POST /_dash-update-component HTTP/1.1\" 200 -\n",
      "127.0.0.1 - - [28/Aug/2019 23:11:05] \"POST /_dash-update-component HTTP/1.1\" 200 -\n",
      "127.0.0.1 - - [28/Aug/2019 23:11:14] \"POST /_dash-update-component HTTP/1.1\" 200 -\n",
      "127.0.0.1 - - [28/Aug/2019 23:11:18] \"POST /_dash-update-component HTTP/1.1\" 200 -\n",
      "127.0.0.1 - - [28/Aug/2019 23:11:21] \"POST /_dash-update-component HTTP/1.1\" 200 -\n",
      "127.0.0.1 - - [28/Aug/2019 23:11:31] \"POST /_dash-update-component HTTP/1.1\" 200 -\n"
     ]
    }
   ],
   "source": [
    "if __name__ == '__main__':\n",
    "    app.run_server(debug=False)"
   ]
  },
  {
   "cell_type": "code",
   "execution_count": null,
   "metadata": {},
   "outputs": [],
   "source": []
  }
 ],
 "metadata": {
  "kernelspec": {
   "display_name": "Python 3",
   "language": "python",
   "name": "python3"
  },
  "language_info": {
   "codemirror_mode": {
    "name": "ipython",
    "version": 3
   },
   "file_extension": ".py",
   "mimetype": "text/x-python",
   "name": "python",
   "nbconvert_exporter": "python",
   "pygments_lexer": "ipython3",
   "version": "3.7.3"
  }
 },
 "nbformat": 4,
 "nbformat_minor": 4
}
