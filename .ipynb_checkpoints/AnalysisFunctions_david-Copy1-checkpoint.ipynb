{
 "cells": [
  {
   "cell_type": "markdown",
   "metadata": {},
   "source": [
    "# Analysis Initialization and Functions"
   ]
  },
  {
   "cell_type": "code",
   "execution_count": 17,
   "metadata": {},
   "outputs": [],
   "source": [
    "import plotly\n",
    "from plotly import tools\n",
    "import plotly.io as pio\n",
    "import qcodes as qc\n",
    "import numpy as np\n",
    "from plotly import graph_objs as go\n",
    "from qcodes.instrument_drivers.rohde_schwarz import SGS100A\n",
    "from time import sleep\n",
    "from qcodes.dataset.measurements import Measurement\n",
    "import qcodes.dataset.experiment_container as exc\n",
    "from scipy.optimize import curve_fit\n",
    "import datetime\n",
    "import scipy.fftpack\n",
    "from scipy import signal\n",
    "from scipy.signal import find_peaks"
   ]
  },
  {
   "cell_type": "code",
   "execution_count": 18,
   "metadata": {},
   "outputs": [
    {
     "name": "stdout",
     "output_type": "stream",
     "text": [
      "Using config file from //anaconda3/lib/python3.7/site-packages/qcodes/config/qcodesrc.json\n",
      "Database location: ./2019-07-08-frays-final.db\n"
     ]
    }
   ],
   "source": [
    "configuration = qc.config\n",
    "print(f'Using config file from {configuration.current_config_path}')\n",
    "configuration['core']['db_location'] = './2019-07-08-frays-final.db'\n",
    "print(f'Database location: {configuration[\"core\"][\"db_location\"]}')\n",
    "qc.initialise_database()"
   ]
  },
  {
   "cell_type": "code",
   "execution_count": 19,
   "metadata": {},
   "outputs": [
    {
     "data": {
      "text/html": [
       "        <script type=\"text/javascript\">\n",
       "        window.PlotlyConfig = {MathJaxConfig: 'local'};\n",
       "        if (window.MathJax) {MathJax.Hub.Config({SVG: {font: \"STIX-Web\"}});}\n",
       "        if (typeof require !== 'undefined') {\n",
       "        require.undef(\"plotly\");\n",
       "        requirejs.config({\n",
       "            paths: {\n",
       "                'plotly': ['https://cdn.plot.ly/plotly-latest.min']\n",
       "            }\n",
       "        });\n",
       "        require(['plotly'], function(Plotly) {\n",
       "            window._Plotly = Plotly;\n",
       "        });\n",
       "        }\n",
       "        </script>\n",
       "        "
      ]
     },
     "metadata": {},
     "output_type": "display_data"
    }
   ],
   "source": [
    "plotly.offline.init_notebook_mode(connected=True)"
   ]
  },
  {
   "cell_type": "code",
   "execution_count": 3,
   "metadata": {},
   "outputs": [
    {
     "name": "stdout",
     "output_type": "stream",
     "text": [
      "['magFieldAlignment', 'ODMR_check', 'Alignement_Improvement', 'Calibration', 'overnight_Rabi', 'power_check_rabi', 'frequency_checks', 'overnight_peakonly_spinecho', 'overnight_peakonly_spinecho_for_real', 'pulsedOdmr_central_7', 'pulsedOdmr_rabi_central_7', 'pulsedOdmr_rabi_echo_weekend_7', 'pulsedOdmr_rabi_echo_postCooldown_70K', 'pulsedOdmr_rabi_echo_postCooldown_70K_forReal', 'pulsedOdmr_rabi_echo_postCooldown_70K_adjustedFreq', 'pulsedOdmr_rabi_echo_postCooldown_70K_Overnight', 'pulsedOdmr_rabi_echo_40K_Overnight', 'pulsedOdmr_rabi_echo_40K_check', 'rabi_echo_40K', 'cwODMR_15K', 'pulsedOdmr_rabi_echo_15K', 'pulsedOdmr_rabi_echo_15K_overnight', 'pulsedOdmr_rabi_echo_15K_final', 'pulsedOdmr_rabi_echo_2-5K', 'pulsedOdmr_rabi_echo_2K', 'pulsedOdmr_7NVs_2K', 'Odmr_7NVs_100K', 'pulsedOdmr_7NVs_100K', 'pulsedOdmr_rabi_spinecho_7NVs_100K', 'pulsedOdmr_rabi_spinecho_7NVs_100K_overnight', 'pulsedOdmr_rabi_spinecho_7NVs_40K', 'CWodmr_7NVs_40K', 'rabi_spinEcho_7NVs_40K', 'cwODMR_7NVs_55K', 'rabi_spinEcho_7NVs_55K', 'cwODMR_7NVs_25K', 'rabi_spinEcho_7NVs_25K', 'nmr_tests_7NVs_25K', 'nmr_tests_7NVs_15K', 'nmr_NV1_15K', 'pulsedODMR_NV1_15K', 'xySequenceTests_NV1_15K', 'xy32_NV1_15K_overnight', 'pulsedODMR_7NVs_7K', '100K_check', '100K_highMagField', '100K_cpmg', '100K_xy8']\n"
     ]
    }
   ],
   "source": [
    "experimentsList = [exp.name for exp in exc.experiments()]\n",
    "print(experimentsList)"
   ]
  },
  {
   "cell_type": "code",
   "execution_count": 4,
   "metadata": {},
   "outputs": [],
   "source": [
    "def normalizeCounts(countArray, num):\n",
    "    reb_counts = np.squeeze(countArray)/np.mean(np.sort(np.squeeze(countArray))[-num:])\n",
    "    return reb_counts"
   ]
  },
  {
   "cell_type": "code",
   "execution_count": 5,
   "metadata": {},
   "outputs": [],
   "source": [
    "def lorentzian(x, x0, a0, g, amp):\n",
    "    denom = (x - x0)**2 + (0.5*g)**2\n",
    "    num = 0.5*g\n",
    "    frac = a0 - (num/denom) * (amp)/np.pi\n",
    "    return frac"
   ]
  },
  {
   "cell_type": "code",
   "execution_count": 6,
   "metadata": {},
   "outputs": [],
   "source": [
    "def sinedamp(x,a,c,f,t):\n",
    "    fun = a*np.cos(2*np.pi*f*x)*np.exp(-1*(x/t)) + c\n",
    "    return fun"
   ]
  },
  {
   "cell_type": "code",
   "execution_count": 7,
   "metadata": {},
   "outputs": [],
   "source": [
    "def stretchedexp(x,a,c,k,t):\n",
    "    fun = a*np.exp(-1*(x/t)**k) + c\n",
    "    return fun"
   ]
  },
  {
   "cell_type": "markdown",
   "metadata": {},
   "source": [
    "### To fit the signal with a lorentzian function"
   ]
  },
  {
   "cell_type": "code",
   "execution_count": 8,
   "metadata": {},
   "outputs": [],
   "source": [
    "def fitlorentzian(plotfun, expt='pulsedodmr', file=[], lb=None,ub=None):\n",
    "    \"Fitting parameters are ODMR frequency in GHz, Width in GHz, and Amplitude. \\\n",
    "    Attribute - expt - can either be 'odmr' or 'pulsedodmr'\"\n",
    "    if np.size(file) != 0:\n",
    "        Data = exc.load_by_id(file[0])\n",
    "    else:\n",
    "        lastExperiment = exc.load_last_experiment()\n",
    "        Data = lastExperiment.last_data_set()\n",
    "    xaxis = 'Frequency'\n",
    "    x1 = np.squeeze(Data.get_data(xaxis))\n",
    "    \n",
    "    if expt == 'odmr':\n",
    "        yaxis = 'Counts'\n",
    "        y1 = normalizeCounts(Data.get_data(yaxis),50)\n",
    "    elif expt == 'pulsedodmr':\n",
    "        y1 = np.squeeze(Data.get_data('Rebased_Counts'))  \n",
    "        \n",
    "    index = np.argmin(y1)\n",
    "    freq = x1[index]/1e9\n",
    "    \n",
    "    if (lb and ub) == None:\n",
    "        lb = [freq-0.01, 0.95, 0.007, 0.0005]\n",
    "        ub = [freq+0.01, 1.1, 0.02, 0.005]\n",
    "        \n",
    "    popt, pcov = curve_fit(lorentzian, x1/1e9, y1, bounds=(lb, ub))\n",
    "    fitname = 'Fit' + ', Resonance @ ' + str(round((popt[0]),3)) + ' GHz'\n",
    "    plotfun.add_scatter(x = x1 , y = lorentzian(x1/1e9,*popt), name = fitname) \n",
    "    return popt"
   ]
  },
  {
   "cell_type": "markdown",
   "metadata": {},
   "source": [
    "### To fit the signal with a damped sine function"
   ]
  },
  {
   "cell_type": "code",
   "execution_count": 9,
   "metadata": {},
   "outputs": [],
   "source": [
    "def fitsinedamp(plotfun=None,file=[],expt='spinecho',lb=None,ub=None):   \n",
    "    \"Fitting parameters are Amplitude, Baseline Offset, Oscillation Frequency in GHz, and Decay Time in ns.\\\n",
    "    Attribute - expt - can either be 'rabi' or 'spinecho' or 'doubleecho'\"\n",
    "    if np.size(file) != 0:\n",
    "        Data = exc.load_by_id(file[0])\n",
    "    else:\n",
    "        lastExperiment = exc.load_last_experiment()\n",
    "        Data = lastExperiment.last_data_set()\n",
    "    xaxis = 'Time'\n",
    "    \n",
    "    \n",
    "    if expt == 'rabi':\n",
    "        x1 = np.squeeze(Data.get_data(xaxis))\n",
    "        y1 = np.squeeze(Data.get_data('Rebased_Counts'))\n",
    "    elif expt == 'spinecho':\n",
    "        x1 = 2*np.squeeze(Data.get_data(xaxis))\n",
    "        y1 = np.squeeze(Data.get_data('Rebased_Counts'))\n",
    "    elif expt == 'doubleecho':\n",
    "        x1 = 2*np.squeeze(Data.get_data(xaxis))\n",
    "        y1ms0 = np.squeeze(Data.get_data('Act_Counts'))\n",
    "        y1ms1 = np.squeeze(Data.get_data('Ref_Counts'))\n",
    "        y1 = y1ms0 - y1ms1\n",
    "        \n",
    "    ampMin = 0.8*(y1.max()-y1.min())/2\n",
    "    ampMax = 1.2*(y1.max()-y1.min())/2\n",
    "    boMin = 0.4*(y1.max()+y1.min())\n",
    "    boMax = 0.6*(y1.max()+y1.min())\n",
    "    freq = 1/(x1[y1.argmin()]*2)\n",
    "    freqMin = freq*0.7\n",
    "    freqMax = freq*1.3\n",
    "    if (lb and ub) == None:\n",
    "        lb = [ampMin, boMin, freqMin, 0]\n",
    "        ub = [ampMax, boMax, freqMax, 1e5]\n",
    "#     print(f'low bounds are: {lb}')\n",
    "#     print(f'upper bounds are: {ub}')\n",
    "    popt, pcov = curve_fit(sinedamp, x1, y1, bounds=(lb,ub))\n",
    "    yval = sinedamp(x1,*popt)\n",
    "    fitname = 'Fit' + ', \\u0394 = ' + str(round((popt[0]*2*100),1)) + ' %' + ', \\u03C0 = ' +  str(round((0.5/popt[2]),1)) + ' ns'\n",
    "    if plotfun is not None:\n",
    "        plotfun.add_scatter(x = x1 , y = yval, name = fitname,line=dict(shape='spline')) \n",
    "    return popt, pcov"
   ]
  },
  {
   "cell_type": "markdown",
   "metadata": {},
   "source": [
    "### To fit the signal with a stretched exponential function"
   ]
  },
  {
   "cell_type": "code",
   "execution_count": 10,
   "metadata": {},
   "outputs": [],
   "source": [
    "def find_T2(plotfun,file=[],expt='doubleecho',threshold = 0.45, lb=[0,0,0,0],ub=[2,3,3,5e6], revivals=0):   \n",
    "    \"Fitting parameters are Amplitude, Baseline Offset, Power of Stretched Exponential, and Decay Time in ns.\\\n",
    "    Attribute - expt - can either be 'spinecho' or 'doubleecho'.\\\n",
    "    threshold is required for peak detection\"\n",
    "    \n",
    "    if np.size(file) != 0:\n",
    "        Data = exc.load_by_id(file[0])\n",
    "    else:\n",
    "        lastExperiment = exc.load_last_experiment()\n",
    "        Data = lastExperiment.last_data_set()\n",
    "        \n",
    "    x1 = 2*np.squeeze(Data.get_data('Time'))\n",
    "    if expt == 'spinecho':\n",
    "        y1 = np.squeeze(Data.get_data('Rebased_Counts'))  \n",
    "    elif expt == 'doubleecho':\n",
    "        y1ms0 = np.squeeze(Data.get_data('Act_Counts'))\n",
    "        y1ms1 = np.squeeze(Data.get_data('Ref_Counts'))\n",
    "        y1 = y1ms0 - y1ms1 \n",
    "        y1 = (y1 + max(y1))/(2*max(y1))\n",
    "    if revivals == 1:\n",
    "        peaks, _= find_peaks(y1,height=threshold,distance=6, width=3)\n",
    "        x0 = np.array([0])\n",
    "        y0 = np.array([y1[0]])\n",
    "        xpeaks = np.concatenate([x0, x1[peaks]], axis=0)\n",
    "        print(xpeaks)\n",
    "        ypeaks = np.concatenate([y0, y1[peaks]], axis=0)\n",
    "        print(ypeaks)\n",
    "    else:\n",
    "        xpeaks = x1\n",
    "        ypeaks = y1\n",
    "    \n",
    "    popt, pcov = curve_fit(stretchedexp, xpeaks, ypeaks, bounds=(lb,ub))\n",
    "    yval = stretchedexp(xpeaks,*popt)\n",
    "    \n",
    "    fitname = 'Fit, T2 = ' + str(round((popt[3]/1e3),1)) + ' \\u03BCs' \n",
    "    \n",
    "    #plotfun.add_scatter(x = xpeaks, y = ypeaks, mode='markers', name = 'Detected Peaks',marker=dict(color='red', size=10, opacity=0.5)) \n",
    "    plotfun.add_scatter(x = xpeaks , y = yval, name = fitname, line=dict(shape='spline'), mode='lines')\n",
    "    \n",
    "    return popt, pcov"
   ]
  },
  {
   "cell_type": "markdown",
   "metadata": {},
   "source": [
    "### To generate a  fourier transform"
   ]
  },
  {
   "cell_type": "code",
   "execution_count": 11,
   "metadata": {},
   "outputs": [],
   "source": [
    "def fouriertransform(file=[],expt='spinecho'):\n",
    "    \"Attribute - expt - can either be 'rabi' or 'ramsey' or 'spinecho' or 'doubleecho'\"\n",
    "    layout = go.Layout(xaxis=dict(title='Frequency (GHz)'),yaxis=dict(title='Amplitude'),title = 'Fourier Transform of a ' + expt.capitalize() + ' signal')\n",
    "    freqPlot = go.Figure(layout=layout)\n",
    "    if np.size(file) != 0:\n",
    "        Data = exc.load_by_id(file[0])\n",
    "    else:\n",
    "        lastExperiment = exc.load_last_experiment()\n",
    "        Data = lastExperiment.last_data_set()\n",
    "        \n",
    "    xaxis = 'Time'\n",
    "    if expt == 'rabi' or expt == 'ramsey':\n",
    "        x1 = np.squeeze(Data.get_data(xaxis))\n",
    "        y1 = np.squeeze(Data.get_data('Rebased_Counts'))\n",
    "    elif expt == 'spinecho':\n",
    "        x1 = 2*np.squeeze(Data.get_data(xaxis))\n",
    "        y1 = np.squeeze(Data.get_data('Rebased_Counts'))\n",
    "    elif expt == 'doubleecho':\n",
    "        x1 = 2*np.squeeze(Data.get_data(xaxis))\n",
    "        y1ms0 = np.squeeze(Data.get_data('Act_Counts'))\n",
    "        y1ms1 = np.squeeze(Data.get_data('Ref_Counts'))\n",
    "        y1 = y1ms0 - y1ms1\n",
    "    elif expt == 'nmr':\n",
    "        x1 = np.squeeze(Data.get_data(xaxis))\n",
    "        y1ms0 = np.squeeze(Data.get_data('Act_Counts'))\n",
    "        y1ms1 = np.squeeze(Data.get_data('Ref_Counts'))\n",
    "        y1 = y1ms1 - y1ms0\n",
    "        \n",
    "    step = x1[1] - x1[0]\n",
    "        \n",
    "    fourTrans = np.fft.fft(y1)\n",
    "    freqs = np.fft.fftfreq(y1.shape[-1], step)\n",
    "    fourTransReal = fourTrans.real\n",
    "    freqPlot.add_scatter(x = freqs, y = fourTransReal,line=dict(shape='spline'), mode='lines')\n",
    "    return freqPlot"
   ]
  },
  {
   "cell_type": "markdown",
   "metadata": {},
   "source": [
    "### To calculate and plot magnitude + direction of the applied field"
   ]
  },
  {
   "cell_type": "code",
   "execution_count": 12,
   "metadata": {},
   "outputs": [],
   "source": [
    "def magfield(odmr1=[2.87],odmr2=[2.87],strain=5):\n",
    "    \"Input ODMR frequencies in GHz and strain splitting in MHz\"\n",
    "    \n",
    "    g = 2.8024e6\n",
    "    D = 2.877e9\n",
    "    \n",
    "    pts = np.size(odmr1)\n",
    "    theta = np.zeros([pts])\n",
    "    B0 = np.zeros([pts])\n",
    "    \n",
    "    for i in range (pts):\n",
    "        n1 = odmr1[i]*1e9 + strain*1e6/2\n",
    "        n2 = odmr2[i]*1e9 - strain*1e6/2\n",
    "        P = n1**2 + n2**2 - n1*n2\n",
    "        Q = (n1 + n2)*(2*n1**2 + 2*n2**2-5*n1*n2)\n",
    "        B = np.sqrt((P-D**2)/3);\n",
    "        c2t = (Q + 9*D*B**2+2*D**3)/(27*D*B**2);\n",
    "        angle = np.arccos(np.sqrt(c2t))*180/np.pi;\n",
    "        theta[i] = round(angle,2);\n",
    "        B = B.real/g;\n",
    "        B0[i] = round(B,2);\n",
    "    \n",
    "    fig = tools.make_subplots(rows=1, cols=2)\n",
    "    plotfun = go.Figure(fig)\n",
    "    plotfun.layout.yaxis.title = 'Magnetic Field Magnitude (gauss)'\n",
    "    plotfun.layout.yaxis2.title = 'Angle to NV axis (degrees)'\n",
    "    plotfun.add_bar(y=B0,row=1,col=1,name='Magnitude')\n",
    "    plotfun.add_bar(y=theta,row=1,col=2,name='Angle')\n",
    "    plotfun.layout.title = 'Checking magnetic field alignment'\n",
    "    return plotfun"
   ]
  },
  {
   "cell_type": "markdown",
   "metadata": {},
   "source": [
    "### To plot recent and saved data"
   ]
  },
  {
   "cell_type": "code",
   "execution_count": 13,
   "metadata": {},
   "outputs": [],
   "source": [
    "def plotdata(expt='rabi', plotcurrent=1, normalize= 1, files=[300], nPi = []): \n",
    "    \"Attribute - expt - can either be 'counting' or 'odmr' or 'pulsedodmr' or 'rabi' or 'ramsey' or 'spinecho' or 'doubleecho' or 'nmr'.\\\n",
    "    If value of plotcurrent is 1 then it will plot the current data. If value of normalize is 1 then it will normalize 'odmr' and 'doubleecho' signal.\"\n",
    "    if plotcurrent == 1:        \n",
    "        filesize = np.size(files) + 1\n",
    "    else:\n",
    "        filesize = np.size(files)  \n",
    "        \n",
    "    plotfun = go.Figure()    \n",
    "    for i in range(filesize):\n",
    "        if plotcurrent == 1 and i == filesize-1:\n",
    "            Data2 = exc.load_last_experiment()\n",
    "            Data2 = Data2.last_data_set()\n",
    "        else:    \n",
    "            Data2 = exc.load_by_id(files[i])\n",
    "        if expt == 'spinecho':\n",
    "            x2 = 2*np.squeeze(Data2.get_data('Time'))\n",
    "            y2 = np.squeeze(Data2.get_data('Rebased_Counts'))\n",
    "            plotfun.layout = go.Layout(xaxis=dict(title='Time (ns)'),yaxis=dict(title='Counts'),title=expt.capitalize())                  \n",
    "        elif expt == 'doubleecho':\n",
    "            if nPi == [] or nPi[i] == 1:\n",
    "                x2 = 2*np.squeeze(Data2.get_data('Time'))\n",
    "            else:\n",
    "                x2 = nPi[i]*np.squeeze(Data2.get_data('Time'))\n",
    "            y2ms0 = np.squeeze(Data2.get_data('Act_Counts'))\n",
    "            y2ms1 = np.squeeze(Data2.get_data('Ref_Counts'))\n",
    "            y2 = y2ms0 - y2ms1   \n",
    "            plotfun.layout = go.Layout(xaxis=dict(title='Time (ns)'),yaxis=dict(title='Counts'),title='Spinecho Double Measure')\n",
    "            if normalize == 1:\n",
    "                y2 = (y2 + max(y2))/(2*max(y2))\n",
    "        elif expt == 'nmr':\n",
    "            x2 = np.squeeze(Data2.get_data('Time'))\n",
    "            y2ms0 = np.squeeze(Data2.get_data('Act_Counts'))\n",
    "            y2ms1 = np.squeeze(Data2.get_data('Ref_Counts'))\n",
    "            y2 = y2ms0 - y2ms1   \n",
    "            plotfun.layout = go.Layout(xaxis=dict(title='Time (ns)'),yaxis=dict(title='Counts'),title='NMR')\n",
    "            if normalize == 1:\n",
    "                y2 = (y2 + max(y2))/(2*max(y2))\n",
    "        elif expt == 'odmr':\n",
    "            x2 = np.squeeze(Data2.get_data('Frequency'))\n",
    "            y2 = np.squeeze(Data2.get_data('Counts'))\n",
    "            plotfun.layout = go.Layout(xaxis=dict(title='Frequency (Hz)'),yaxis=dict(title='Counts'),title=expt.upper())\n",
    "            if normalize == 1:\n",
    "                y2 = normalizeCounts(Data2.get_data('Counts'),50)\n",
    "                layout = go.Layout(xaxis=dict(title='Frequency (Hz)'),yaxis=dict(title='Normalized Counts'),title=expt.upper())\n",
    "        elif expt == 'pulsedodmr':\n",
    "            x2 = np.squeeze(Data2.get_data('Frequency'))\n",
    "            y2 = np.squeeze(Data2.get_data('Rebased_Counts'))   \n",
    "            plotfun.layout = go.Layout(xaxis=dict(title='Frequency (Hz)'),yaxis=dict(title='Counts'),title='Pulsed ODMR')\n",
    "        elif expt == 'g2':\n",
    "            x2 = np.squeeze(Data2.get_data('Time'))\n",
    "            y2 = np.squeeze(Data2.get_data('Norm_Counts'))\n",
    "            plotfun.layout = go.Layout(xaxis=dict(title='Time dif'), yaxis=dict(title='Normalised Counts'), title='g2 Dip')\n",
    "        else:\n",
    "            x2 = np.squeeze(Data2.get_data('Time'))\n",
    "            y2 = np.squeeze(Data2.get_data('Rebased_Counts'))     \n",
    "            plotfun.layout = go.Layout(xaxis=dict(title='Time (ns)'),yaxis=dict(title='Counts'),title=expt.capitalize())\n",
    "        if plotcurrent == 1 and i == filesize-1:\n",
    "            plotfun.add_scatter(x = x2, y = y2, name = 'Recent Data', mode='lines+markers') \n",
    "        else:       \n",
    "            plotfun.add_scatter(x = x2, y = y2, name = files[i], mode='lines+markers') \n",
    "    return plotfun"
   ]
  },
  {
   "cell_type": "markdown",
   "metadata": {},
   "source": [
    "### To update recent data"
   ]
  },
  {
   "cell_type": "code",
   "execution_count": 14,
   "metadata": {},
   "outputs": [],
   "source": [
    "def updatedata(plotfun, expt='rabi', sleeptime=2, normalize=1, animation=1):\n",
    "    \"Attribute - expt - can either be 'counting' or 'odmr' or 'pulsedodmr' or rabi' or 'ramsey' or 'spinecho' or 'doubleecho'.\\\n",
    "    If value of plotcurrent is 1 then it will plot the current data. If value of normalize is 1 then it will normalize 'odmr' and 'doubleecho' signal.\"\n",
    "    for i in range(10000):\n",
    "        sleep(sleeptime)\n",
    "        if animation == 1:\n",
    "            with plotfun.batch_animate(easing = 'quad'):   \n",
    "                Data2 = exc.load_last_experiment()\n",
    "                Data2 = Data2.last_data_set()\n",
    "                if expt == 'doubleecho':\n",
    "                    y2ms0 = np.squeeze(Data2.get_data('Act_Counts'))\n",
    "                    y2ms1 = np.squeeze(Data2.get_data('Ref_Counts'))\n",
    "                    y2 = y2ms0 - y2ms1  \n",
    "                    if normalize == 1:\n",
    "                        y2 = (y2 + max(y2))/(2*max(y2))\n",
    "                elif expt == 'nmr':\n",
    "                    y2ms0 = np.squeeze(Data2.get_data('Act_Counts'))\n",
    "                    y2ms1 = np.squeeze(Data2.get_data('Ref_Counts'))\n",
    "                    y2 = y2ms0 - y2ms1  \n",
    "                    if normalize == 1:\n",
    "                        y2 = (y2 + max(y2))/(2*max(y2))\n",
    "                elif expt == 'odmr':\n",
    "                    y2 = np.squeeze(Data2.get_data('Counts'))\n",
    "                    if normalize == 1:\n",
    "                        y2 = normalizeCounts(Data2.get_data('Counts'),50)\n",
    "                elif expt == 'g2':\n",
    "                    y2 = np.squeeze(Data2.get_data('Norm_Counts'))\n",
    "                else:\n",
    "                    y2 = np.squeeze(Data2.get_data('Rebased_Counts'))     \n",
    "                plotfun.data[-1].y = y2\n",
    "        else:\n",
    "            Data2 = exc.load_last_experiment()\n",
    "            Data2 = Data2.last_data_set()\n",
    "            if expt == 'doubleecho':\n",
    "                y2ms0 = np.squeeze(Data2.get_data('Act_Counts'))\n",
    "                y2ms1 = np.squeeze(Data2.get_data('Ref_Counts'))\n",
    "                y2 = y2ms0 - y2ms1  \n",
    "                if normalize == 1:\n",
    "                    y2 = (y2 + max(y2))/(2*max(y2))\n",
    "            elif expt == 'nmr':\n",
    "                y2ms0 = np.squeeze(Data2.get_data('Act_Counts'))\n",
    "                y2ms1 = np.squeeze(Data2.get_data('Ref_Counts'))\n",
    "                y2 = y2ms0 - y2ms1  \n",
    "                if normalize == 1:\n",
    "                    y2 = (y2 + max(y2))/(2*max(y2))\n",
    "            elif expt == 'odmr':\n",
    "                y2 = np.squeeze(Data2.get_data('Counts'))\n",
    "                if normalize == 1:\n",
    "                    y2 = normalizeCounts(Data2.get_data('Counts'),50)\n",
    "            elif expt == 'g2':\n",
    "                y2 = np.squeeze(Data2.get_data('Counts'))\n",
    "            else:\n",
    "                y2 = np.squeeze(Data2.get_data('Rebased_Counts'))     \n",
    "            plotfun.data[-1].y = y2"
   ]
  },
  {
   "cell_type": "code",
   "execution_count": 20,
   "metadata": {},
   "outputs": [
    {
     "data": {
      "application/vnd.plotly.v1+json": {
       "config": {
        "plotlyServerURL": "https://plot.ly"
       },
       "data": [
        {
         "mode": "lines+markers",
         "name": "300",
         "type": "scatter",
         "x": [
          0,
          10,
          20,
          30,
          40,
          50,
          60,
          70,
          80,
          90,
          100,
          110,
          120,
          130,
          140,
          150,
          160,
          170,
          180,
          190,
          200,
          210,
          220,
          230,
          240,
          250,
          260,
          270,
          280,
          290,
          300,
          310,
          320,
          330,
          340,
          350,
          360,
          370,
          380,
          390,
          400,
          410,
          420,
          430,
          440,
          450,
          460,
          470,
          480,
          490,
          500,
          510,
          520,
          530,
          540,
          550,
          560,
          570,
          580,
          590,
          600,
          610,
          620,
          630,
          640,
          650,
          660,
          670,
          680,
          690,
          700,
          710,
          720,
          730,
          740,
          750,
          760,
          770,
          780,
          790,
          800
         ],
         "y": [
          1.0273375918152863,
          1.0515129398327558,
          1.0177904305631562,
          1.0663484832720282,
          1.0422343441612705,
          0.9999427636363303,
          1.0014896801002684,
          0.9918871412777245,
          1.0216555876495301,
          0.9945821634095412,
          0.9873688055226679,
          1.0246403785421494,
          1.0017891672959744,
          0.9948700134620367,
          1.030910314858397,
          1.0354295804826081,
          1.0288593272691537,
          1.0347122089309926,
          1.0582562114376068,
          1.0284013242191896,
          1.0311994219305223,
          1.0299246670101472,
          1.0475207840182792,
          1.0060531596364186,
          1.0251108752297535,
          0.9916383964973596,
          1.0052436979579993,
          1.0217508728941773,
          1.0237961823817399,
          1.0203304639968855,
          0.9784299791861366,
          1.0271378177767394,
          0.9927882897213739,
          1.0404543491459097,
          1.0066825203669247,
          1.0276762476888408,
          1.0428995482058243,
          1.0308739642826206,
          0.9974347887320107,
          1.0132894286166443,
          1.0319509407166978,
          1.008347821195803,
          1.02209175802477,
          0.9949048551374757,
          0.9952757312651852,
          0.9771603523338503,
          1.0083540163779594,
          0.99811523260895,
          0.9741557174106787,
          1.0170394818649922,
          1.0410631798977303,
          0.9954280865419558,
          1.0248517616107704,
          1.0449725027383394,
          1.036564256372056,
          1.0361573325219906,
          1.026250133337205,
          1.0178276309161978,
          1.0121089090462625,
          1.0235130417375808,
          0.9908503703009535,
          0.9953281867006285,
          1.0140986224535087,
          1.027182498884401,
          1.0328806254021523,
          1.0208489901170652,
          1.027842931455082,
          0.9924294054339937,
          0.9980705613288342,
          1.0193490812811299,
          1.0213494632462334,
          1.0455973692639973,
          1.0393062422332549,
          1.0268989680724625,
          1.0069425942524228,
          1.0463705136539863,
          1.032927618579164,
          1.0327563867277036,
          0.9977513937020751,
          1.0177180234803431,
          1.020090109047156
         ]
        },
        {
         "mode": "lines+markers",
         "name": "Recent Data",
         "type": "scatter",
         "x": [
          0,
          1000,
          2000,
          3000,
          4000,
          5000,
          6000,
          7000,
          8000,
          9000,
          10000,
          11000,
          12000,
          13000,
          14000,
          15000,
          16000,
          17000,
          18000,
          19000,
          20000,
          21000,
          22000,
          23000,
          24000,
          25000,
          26000,
          27000,
          28000,
          29000,
          30000,
          31000,
          32000,
          33000,
          34000,
          35000,
          36000,
          37000,
          38000,
          39000,
          40000,
          41000,
          42000,
          43000,
          44000,
          45000,
          46000,
          47000,
          48000,
          49000,
          50000
         ],
         "y": [
          1.1199312427128234,
          1.1955099307132062,
          1.1340164313330094,
          1.0268151088427175,
          1.0517719223373276,
          1.0456740654016698,
          1.0457148647821726,
          1.0351787996313233,
          1.0278177556443961,
          1.052249619022846,
          1.0633875544016795,
          1.0343134662254685,
          1.0412462514323746,
          1.0474884218670746,
          1.0345973133167181,
          1.0422314996480238,
          1.0398008019665144,
          1.037400801320555,
          1.033535706208545,
          1.0325375428759394,
          1.0553191230439314,
          1.0157864162307528,
          1.030935775989374,
          1.0487168737976935,
          1.0383429632366012,
          1.0487238930515912,
          1.0330745890572086,
          1.0430630809426091,
          1.0394216354517085,
          1.0317209427405263,
          1.0409046498735923,
          1.039790422458585,
          1.056473843843798,
          1.042406932589027,
          1.0526151992953496,
          1.0583119534259404,
          1.0575371103592812,
          1.0855563071800163,
          0.9910430023641273,
          1.0628564573142136,
          1.044719188160918,
          1.037773744413306,
          1.0726729345749306,
          1.043756127455888,
          1.0456401998392584,
          1.0519317264958932,
          1.038031473905476,
          1.036574564488867,
          1.0385754577110224,
          1.0499981430207126,
          1.0310693838185556
         ]
        }
       ],
       "layout": {
        "template": {
         "data": {
          "bar": [
           {
            "error_x": {
             "color": "#2a3f5f"
            },
            "error_y": {
             "color": "#2a3f5f"
            },
            "marker": {
             "line": {
              "color": "#E5ECF6",
              "width": 0.5
             }
            },
            "type": "bar"
           }
          ],
          "barpolar": [
           {
            "marker": {
             "line": {
              "color": "#E5ECF6",
              "width": 0.5
             }
            },
            "type": "barpolar"
           }
          ],
          "carpet": [
           {
            "aaxis": {
             "endlinecolor": "#2a3f5f",
             "gridcolor": "white",
             "linecolor": "white",
             "minorgridcolor": "white",
             "startlinecolor": "#2a3f5f"
            },
            "baxis": {
             "endlinecolor": "#2a3f5f",
             "gridcolor": "white",
             "linecolor": "white",
             "minorgridcolor": "white",
             "startlinecolor": "#2a3f5f"
            },
            "type": "carpet"
           }
          ],
          "choropleth": [
           {
            "colorbar": {
             "outlinewidth": 0,
             "ticks": ""
            },
            "type": "choropleth"
           }
          ],
          "contour": [
           {
            "colorbar": {
             "outlinewidth": 0,
             "ticks": ""
            },
            "colorscale": [
             [
              0,
              "#0d0887"
             ],
             [
              0.1111111111111111,
              "#46039f"
             ],
             [
              0.2222222222222222,
              "#7201a8"
             ],
             [
              0.3333333333333333,
              "#9c179e"
             ],
             [
              0.4444444444444444,
              "#bd3786"
             ],
             [
              0.5555555555555556,
              "#d8576b"
             ],
             [
              0.6666666666666666,
              "#ed7953"
             ],
             [
              0.7777777777777778,
              "#fb9f3a"
             ],
             [
              0.8888888888888888,
              "#fdca26"
             ],
             [
              1,
              "#f0f921"
             ]
            ],
            "type": "contour"
           }
          ],
          "contourcarpet": [
           {
            "colorbar": {
             "outlinewidth": 0,
             "ticks": ""
            },
            "type": "contourcarpet"
           }
          ],
          "heatmap": [
           {
            "colorbar": {
             "outlinewidth": 0,
             "ticks": ""
            },
            "colorscale": [
             [
              0,
              "#0d0887"
             ],
             [
              0.1111111111111111,
              "#46039f"
             ],
             [
              0.2222222222222222,
              "#7201a8"
             ],
             [
              0.3333333333333333,
              "#9c179e"
             ],
             [
              0.4444444444444444,
              "#bd3786"
             ],
             [
              0.5555555555555556,
              "#d8576b"
             ],
             [
              0.6666666666666666,
              "#ed7953"
             ],
             [
              0.7777777777777778,
              "#fb9f3a"
             ],
             [
              0.8888888888888888,
              "#fdca26"
             ],
             [
              1,
              "#f0f921"
             ]
            ],
            "type": "heatmap"
           }
          ],
          "heatmapgl": [
           {
            "colorbar": {
             "outlinewidth": 0,
             "ticks": ""
            },
            "colorscale": [
             [
              0,
              "#0d0887"
             ],
             [
              0.1111111111111111,
              "#46039f"
             ],
             [
              0.2222222222222222,
              "#7201a8"
             ],
             [
              0.3333333333333333,
              "#9c179e"
             ],
             [
              0.4444444444444444,
              "#bd3786"
             ],
             [
              0.5555555555555556,
              "#d8576b"
             ],
             [
              0.6666666666666666,
              "#ed7953"
             ],
             [
              0.7777777777777778,
              "#fb9f3a"
             ],
             [
              0.8888888888888888,
              "#fdca26"
             ],
             [
              1,
              "#f0f921"
             ]
            ],
            "type": "heatmapgl"
           }
          ],
          "histogram": [
           {
            "marker": {
             "colorbar": {
              "outlinewidth": 0,
              "ticks": ""
             }
            },
            "type": "histogram"
           }
          ],
          "histogram2d": [
           {
            "colorbar": {
             "outlinewidth": 0,
             "ticks": ""
            },
            "colorscale": [
             [
              0,
              "#0d0887"
             ],
             [
              0.1111111111111111,
              "#46039f"
             ],
             [
              0.2222222222222222,
              "#7201a8"
             ],
             [
              0.3333333333333333,
              "#9c179e"
             ],
             [
              0.4444444444444444,
              "#bd3786"
             ],
             [
              0.5555555555555556,
              "#d8576b"
             ],
             [
              0.6666666666666666,
              "#ed7953"
             ],
             [
              0.7777777777777778,
              "#fb9f3a"
             ],
             [
              0.8888888888888888,
              "#fdca26"
             ],
             [
              1,
              "#f0f921"
             ]
            ],
            "type": "histogram2d"
           }
          ],
          "histogram2dcontour": [
           {
            "colorbar": {
             "outlinewidth": 0,
             "ticks": ""
            },
            "colorscale": [
             [
              0,
              "#0d0887"
             ],
             [
              0.1111111111111111,
              "#46039f"
             ],
             [
              0.2222222222222222,
              "#7201a8"
             ],
             [
              0.3333333333333333,
              "#9c179e"
             ],
             [
              0.4444444444444444,
              "#bd3786"
             ],
             [
              0.5555555555555556,
              "#d8576b"
             ],
             [
              0.6666666666666666,
              "#ed7953"
             ],
             [
              0.7777777777777778,
              "#fb9f3a"
             ],
             [
              0.8888888888888888,
              "#fdca26"
             ],
             [
              1,
              "#f0f921"
             ]
            ],
            "type": "histogram2dcontour"
           }
          ],
          "mesh3d": [
           {
            "colorbar": {
             "outlinewidth": 0,
             "ticks": ""
            },
            "type": "mesh3d"
           }
          ],
          "parcoords": [
           {
            "line": {
             "colorbar": {
              "outlinewidth": 0,
              "ticks": ""
             }
            },
            "type": "parcoords"
           }
          ],
          "scatter": [
           {
            "marker": {
             "colorbar": {
              "outlinewidth": 0,
              "ticks": ""
             }
            },
            "type": "scatter"
           }
          ],
          "scatter3d": [
           {
            "line": {
             "colorbar": {
              "outlinewidth": 0,
              "ticks": ""
             }
            },
            "marker": {
             "colorbar": {
              "outlinewidth": 0,
              "ticks": ""
             }
            },
            "type": "scatter3d"
           }
          ],
          "scattercarpet": [
           {
            "marker": {
             "colorbar": {
              "outlinewidth": 0,
              "ticks": ""
             }
            },
            "type": "scattercarpet"
           }
          ],
          "scattergeo": [
           {
            "marker": {
             "colorbar": {
              "outlinewidth": 0,
              "ticks": ""
             }
            },
            "type": "scattergeo"
           }
          ],
          "scattergl": [
           {
            "marker": {
             "colorbar": {
              "outlinewidth": 0,
              "ticks": ""
             }
            },
            "type": "scattergl"
           }
          ],
          "scattermapbox": [
           {
            "marker": {
             "colorbar": {
              "outlinewidth": 0,
              "ticks": ""
             }
            },
            "type": "scattermapbox"
           }
          ],
          "scatterpolar": [
           {
            "marker": {
             "colorbar": {
              "outlinewidth": 0,
              "ticks": ""
             }
            },
            "type": "scatterpolar"
           }
          ],
          "scatterpolargl": [
           {
            "marker": {
             "colorbar": {
              "outlinewidth": 0,
              "ticks": ""
             }
            },
            "type": "scatterpolargl"
           }
          ],
          "scatterternary": [
           {
            "marker": {
             "colorbar": {
              "outlinewidth": 0,
              "ticks": ""
             }
            },
            "type": "scatterternary"
           }
          ],
          "surface": [
           {
            "colorbar": {
             "outlinewidth": 0,
             "ticks": ""
            },
            "colorscale": [
             [
              0,
              "#0d0887"
             ],
             [
              0.1111111111111111,
              "#46039f"
             ],
             [
              0.2222222222222222,
              "#7201a8"
             ],
             [
              0.3333333333333333,
              "#9c179e"
             ],
             [
              0.4444444444444444,
              "#bd3786"
             ],
             [
              0.5555555555555556,
              "#d8576b"
             ],
             [
              0.6666666666666666,
              "#ed7953"
             ],
             [
              0.7777777777777778,
              "#fb9f3a"
             ],
             [
              0.8888888888888888,
              "#fdca26"
             ],
             [
              1,
              "#f0f921"
             ]
            ],
            "type": "surface"
           }
          ],
          "table": [
           {
            "cells": {
             "fill": {
              "color": "#EBF0F8"
             },
             "line": {
              "color": "white"
             }
            },
            "header": {
             "fill": {
              "color": "#C8D4E3"
             },
             "line": {
              "color": "white"
             }
            },
            "type": "table"
           }
          ]
         },
         "layout": {
          "annotationdefaults": {
           "arrowcolor": "#2a3f5f",
           "arrowhead": 0,
           "arrowwidth": 1
          },
          "colorscale": {
           "diverging": [
            [
             0,
             "#8e0152"
            ],
            [
             0.1,
             "#c51b7d"
            ],
            [
             0.2,
             "#de77ae"
            ],
            [
             0.3,
             "#f1b6da"
            ],
            [
             0.4,
             "#fde0ef"
            ],
            [
             0.5,
             "#f7f7f7"
            ],
            [
             0.6,
             "#e6f5d0"
            ],
            [
             0.7,
             "#b8e186"
            ],
            [
             0.8,
             "#7fbc41"
            ],
            [
             0.9,
             "#4d9221"
            ],
            [
             1,
             "#276419"
            ]
           ],
           "sequential": [
            [
             0,
             "#0d0887"
            ],
            [
             0.1111111111111111,
             "#46039f"
            ],
            [
             0.2222222222222222,
             "#7201a8"
            ],
            [
             0.3333333333333333,
             "#9c179e"
            ],
            [
             0.4444444444444444,
             "#bd3786"
            ],
            [
             0.5555555555555556,
             "#d8576b"
            ],
            [
             0.6666666666666666,
             "#ed7953"
            ],
            [
             0.7777777777777778,
             "#fb9f3a"
            ],
            [
             0.8888888888888888,
             "#fdca26"
            ],
            [
             1,
             "#f0f921"
            ]
           ],
           "sequentialminus": [
            [
             0,
             "#0d0887"
            ],
            [
             0.1111111111111111,
             "#46039f"
            ],
            [
             0.2222222222222222,
             "#7201a8"
            ],
            [
             0.3333333333333333,
             "#9c179e"
            ],
            [
             0.4444444444444444,
             "#bd3786"
            ],
            [
             0.5555555555555556,
             "#d8576b"
            ],
            [
             0.6666666666666666,
             "#ed7953"
            ],
            [
             0.7777777777777778,
             "#fb9f3a"
            ],
            [
             0.8888888888888888,
             "#fdca26"
            ],
            [
             1,
             "#f0f921"
            ]
           ]
          },
          "colorway": [
           "#636efa",
           "#EF553B",
           "#00cc96",
           "#ab63fa",
           "#FFA15A",
           "#19d3f3",
           "#FF6692",
           "#B6E880",
           "#FF97FF",
           "#FECB52"
          ],
          "font": {
           "color": "#2a3f5f"
          },
          "geo": {
           "bgcolor": "white",
           "lakecolor": "white",
           "landcolor": "#E5ECF6",
           "showlakes": true,
           "showland": true,
           "subunitcolor": "white"
          },
          "hoverlabel": {
           "align": "left"
          },
          "hovermode": "closest",
          "mapbox": {
           "style": "light"
          },
          "paper_bgcolor": "white",
          "plot_bgcolor": "#E5ECF6",
          "polar": {
           "angularaxis": {
            "gridcolor": "white",
            "linecolor": "white",
            "ticks": ""
           },
           "bgcolor": "#E5ECF6",
           "radialaxis": {
            "gridcolor": "white",
            "linecolor": "white",
            "ticks": ""
           }
          },
          "scene": {
           "xaxis": {
            "backgroundcolor": "#E5ECF6",
            "gridcolor": "white",
            "gridwidth": 2,
            "linecolor": "white",
            "showbackground": true,
            "ticks": "",
            "zerolinecolor": "white"
           },
           "yaxis": {
            "backgroundcolor": "#E5ECF6",
            "gridcolor": "white",
            "gridwidth": 2,
            "linecolor": "white",
            "showbackground": true,
            "ticks": "",
            "zerolinecolor": "white"
           },
           "zaxis": {
            "backgroundcolor": "#E5ECF6",
            "gridcolor": "white",
            "gridwidth": 2,
            "linecolor": "white",
            "showbackground": true,
            "ticks": "",
            "zerolinecolor": "white"
           }
          },
          "shapedefaults": {
           "line": {
            "color": "#2a3f5f"
           }
          },
          "ternary": {
           "aaxis": {
            "gridcolor": "white",
            "linecolor": "white",
            "ticks": ""
           },
           "baxis": {
            "gridcolor": "white",
            "linecolor": "white",
            "ticks": ""
           },
           "bgcolor": "#E5ECF6",
           "caxis": {
            "gridcolor": "white",
            "linecolor": "white",
            "ticks": ""
           }
          },
          "title": {
           "x": 0.05
          },
          "xaxis": {
           "automargin": true,
           "gridcolor": "white",
           "linecolor": "white",
           "ticks": "",
           "zerolinecolor": "white",
           "zerolinewidth": 2
          },
          "yaxis": {
           "automargin": true,
           "gridcolor": "white",
           "linecolor": "white",
           "ticks": "",
           "zerolinecolor": "white",
           "zerolinewidth": 2
          }
         }
        },
        "title": {
         "text": "Rabi"
        },
        "xaxis": {
         "title": {
          "text": "Time (ns)"
         }
        },
        "yaxis": {
         "title": {
          "text": "Counts"
         }
        }
       }
      },
      "text/html": [
       "<div>\n",
       "        \n",
       "        \n",
       "            <div id=\"b8af7202-e9ec-4c5a-bbc6-a926a139c4bd\" class=\"plotly-graph-div\" style=\"height:525px; width:100%;\"></div>\n",
       "            <script type=\"text/javascript\">\n",
       "                require([\"plotly\"], function(Plotly) {\n",
       "                    window.PLOTLYENV=window.PLOTLYENV || {};\n",
       "                    \n",
       "                if (document.getElementById(\"b8af7202-e9ec-4c5a-bbc6-a926a139c4bd\")) {\n",
       "                    Plotly.newPlot(\n",
       "                        'b8af7202-e9ec-4c5a-bbc6-a926a139c4bd',\n",
       "                        [{\"mode\": \"lines+markers\", \"name\": \"300\", \"type\": \"scatter\", \"x\": [0.0, 10.0, 20.0, 30.0, 40.0, 50.0, 60.0, 70.0, 80.0, 90.0, 100.0, 110.0, 120.0, 130.0, 140.0, 150.0, 160.0, 170.0, 180.0, 190.0, 200.0, 210.0, 220.0, 230.0, 240.0, 250.0, 260.0, 270.0, 280.0, 290.0, 300.0, 310.0, 320.0, 330.0, 340.0, 350.0, 360.0, 370.0, 380.0, 390.0, 400.0, 410.0, 420.0, 430.0, 440.0, 450.0, 460.0, 470.0, 480.0, 490.0, 500.0, 510.0, 520.0, 530.0, 540.0, 550.0, 560.0, 570.0, 580.0, 590.0, 600.0, 610.0, 620.0, 630.0, 640.0, 650.0, 660.0, 670.0, 680.0, 690.0, 700.0, 710.0, 720.0, 730.0, 740.0, 750.0, 760.0, 770.0, 780.0, 790.0, 800.0], \"y\": [1.0273375918152863, 1.0515129398327558, 1.0177904305631562, 1.0663484832720282, 1.0422343441612705, 0.9999427636363303, 1.0014896801002684, 0.9918871412777245, 1.0216555876495301, 0.9945821634095412, 0.9873688055226679, 1.0246403785421494, 1.0017891672959744, 0.9948700134620367, 1.030910314858397, 1.0354295804826081, 1.0288593272691537, 1.0347122089309926, 1.0582562114376068, 1.0284013242191896, 1.0311994219305223, 1.0299246670101472, 1.0475207840182792, 1.0060531596364186, 1.0251108752297535, 0.9916383964973596, 1.0052436979579993, 1.0217508728941773, 1.0237961823817399, 1.0203304639968855, 0.9784299791861366, 1.0271378177767394, 0.9927882897213739, 1.0404543491459097, 1.0066825203669247, 1.0276762476888408, 1.0428995482058243, 1.0308739642826206, 0.9974347887320107, 1.0132894286166443, 1.0319509407166978, 1.008347821195803, 1.02209175802477, 0.9949048551374757, 0.9952757312651852, 0.9771603523338503, 1.0083540163779594, 0.99811523260895, 0.9741557174106787, 1.0170394818649922, 1.0410631798977303, 0.9954280865419558, 1.0248517616107704, 1.0449725027383394, 1.036564256372056, 1.0361573325219906, 1.026250133337205, 1.0178276309161978, 1.0121089090462625, 1.0235130417375808, 0.9908503703009535, 0.9953281867006285, 1.0140986224535087, 1.027182498884401, 1.0328806254021523, 1.0208489901170652, 1.027842931455082, 0.9924294054339937, 0.9980705613288342, 1.0193490812811299, 1.0213494632462334, 1.0455973692639973, 1.0393062422332549, 1.0268989680724625, 1.0069425942524228, 1.0463705136539863, 1.032927618579164, 1.0327563867277036, 0.9977513937020751, 1.0177180234803431, 1.020090109047156]}, {\"mode\": \"lines+markers\", \"name\": \"Recent Data\", \"type\": \"scatter\", \"x\": [0.0, 1000.0, 2000.0, 3000.0, 4000.0, 5000.0, 6000.0, 7000.0, 8000.0, 9000.0, 10000.0, 11000.0, 12000.0, 13000.0, 14000.0, 15000.0, 16000.0, 17000.0, 18000.0, 19000.0, 20000.0, 21000.0, 22000.0, 23000.0, 24000.0, 25000.0, 26000.0, 27000.0, 28000.0, 29000.0, 30000.0, 31000.0, 32000.0, 33000.0, 34000.0, 35000.0, 36000.0, 37000.0, 38000.0, 39000.0, 40000.0, 41000.0, 42000.0, 43000.0, 44000.0, 45000.0, 46000.0, 47000.0, 48000.0, 49000.0, 50000.0], \"y\": [1.1199312427128234, 1.1955099307132062, 1.1340164313330094, 1.0268151088427175, 1.0517719223373276, 1.0456740654016698, 1.0457148647821726, 1.0351787996313233, 1.0278177556443961, 1.052249619022846, 1.0633875544016795, 1.0343134662254685, 1.0412462514323746, 1.0474884218670746, 1.0345973133167181, 1.0422314996480238, 1.0398008019665144, 1.037400801320555, 1.033535706208545, 1.0325375428759394, 1.0553191230439314, 1.0157864162307528, 1.030935775989374, 1.0487168737976935, 1.0383429632366012, 1.0487238930515912, 1.0330745890572086, 1.0430630809426091, 1.0394216354517085, 1.0317209427405263, 1.0409046498735923, 1.039790422458585, 1.056473843843798, 1.042406932589027, 1.0526151992953496, 1.0583119534259404, 1.0575371103592812, 1.0855563071800163, 0.9910430023641273, 1.0628564573142136, 1.044719188160918, 1.037773744413306, 1.0726729345749306, 1.043756127455888, 1.0456401998392584, 1.0519317264958932, 1.038031473905476, 1.036574564488867, 1.0385754577110224, 1.0499981430207126, 1.0310693838185556]}],\n",
       "                        {\"template\": {\"data\": {\"bar\": [{\"error_x\": {\"color\": \"#2a3f5f\"}, \"error_y\": {\"color\": \"#2a3f5f\"}, \"marker\": {\"line\": {\"color\": \"#E5ECF6\", \"width\": 0.5}}, \"type\": \"bar\"}], \"barpolar\": [{\"marker\": {\"line\": {\"color\": \"#E5ECF6\", \"width\": 0.5}}, \"type\": \"barpolar\"}], \"carpet\": [{\"aaxis\": {\"endlinecolor\": \"#2a3f5f\", \"gridcolor\": \"white\", \"linecolor\": \"white\", \"minorgridcolor\": \"white\", \"startlinecolor\": \"#2a3f5f\"}, \"baxis\": {\"endlinecolor\": \"#2a3f5f\", \"gridcolor\": \"white\", \"linecolor\": \"white\", \"minorgridcolor\": \"white\", \"startlinecolor\": \"#2a3f5f\"}, \"type\": \"carpet\"}], \"choropleth\": [{\"colorbar\": {\"outlinewidth\": 0, \"ticks\": \"\"}, \"type\": \"choropleth\"}], \"contour\": [{\"colorbar\": {\"outlinewidth\": 0, \"ticks\": \"\"}, \"colorscale\": [[0.0, \"#0d0887\"], [0.1111111111111111, \"#46039f\"], [0.2222222222222222, \"#7201a8\"], [0.3333333333333333, \"#9c179e\"], [0.4444444444444444, \"#bd3786\"], [0.5555555555555556, \"#d8576b\"], [0.6666666666666666, \"#ed7953\"], [0.7777777777777778, \"#fb9f3a\"], [0.8888888888888888, \"#fdca26\"], [1.0, \"#f0f921\"]], \"type\": \"contour\"}], \"contourcarpet\": [{\"colorbar\": {\"outlinewidth\": 0, \"ticks\": \"\"}, \"type\": \"contourcarpet\"}], \"heatmap\": [{\"colorbar\": {\"outlinewidth\": 0, \"ticks\": \"\"}, \"colorscale\": [[0.0, \"#0d0887\"], [0.1111111111111111, \"#46039f\"], [0.2222222222222222, \"#7201a8\"], [0.3333333333333333, \"#9c179e\"], [0.4444444444444444, \"#bd3786\"], [0.5555555555555556, \"#d8576b\"], [0.6666666666666666, \"#ed7953\"], [0.7777777777777778, \"#fb9f3a\"], [0.8888888888888888, \"#fdca26\"], [1.0, \"#f0f921\"]], \"type\": \"heatmap\"}], \"heatmapgl\": [{\"colorbar\": {\"outlinewidth\": 0, \"ticks\": \"\"}, \"colorscale\": [[0.0, \"#0d0887\"], [0.1111111111111111, \"#46039f\"], [0.2222222222222222, \"#7201a8\"], [0.3333333333333333, \"#9c179e\"], [0.4444444444444444, \"#bd3786\"], [0.5555555555555556, \"#d8576b\"], [0.6666666666666666, \"#ed7953\"], [0.7777777777777778, \"#fb9f3a\"], [0.8888888888888888, \"#fdca26\"], [1.0, \"#f0f921\"]], \"type\": \"heatmapgl\"}], \"histogram\": [{\"marker\": {\"colorbar\": {\"outlinewidth\": 0, \"ticks\": \"\"}}, \"type\": \"histogram\"}], \"histogram2d\": [{\"colorbar\": {\"outlinewidth\": 0, \"ticks\": \"\"}, \"colorscale\": [[0.0, \"#0d0887\"], [0.1111111111111111, \"#46039f\"], [0.2222222222222222, \"#7201a8\"], [0.3333333333333333, \"#9c179e\"], [0.4444444444444444, \"#bd3786\"], [0.5555555555555556, \"#d8576b\"], [0.6666666666666666, \"#ed7953\"], [0.7777777777777778, \"#fb9f3a\"], [0.8888888888888888, \"#fdca26\"], [1.0, \"#f0f921\"]], \"type\": \"histogram2d\"}], \"histogram2dcontour\": [{\"colorbar\": {\"outlinewidth\": 0, \"ticks\": \"\"}, \"colorscale\": [[0.0, \"#0d0887\"], [0.1111111111111111, \"#46039f\"], [0.2222222222222222, \"#7201a8\"], [0.3333333333333333, \"#9c179e\"], [0.4444444444444444, \"#bd3786\"], [0.5555555555555556, \"#d8576b\"], [0.6666666666666666, \"#ed7953\"], [0.7777777777777778, \"#fb9f3a\"], [0.8888888888888888, \"#fdca26\"], [1.0, \"#f0f921\"]], \"type\": \"histogram2dcontour\"}], \"mesh3d\": [{\"colorbar\": {\"outlinewidth\": 0, \"ticks\": \"\"}, \"type\": \"mesh3d\"}], \"parcoords\": [{\"line\": {\"colorbar\": {\"outlinewidth\": 0, \"ticks\": \"\"}}, \"type\": \"parcoords\"}], \"scatter\": [{\"marker\": {\"colorbar\": {\"outlinewidth\": 0, \"ticks\": \"\"}}, \"type\": \"scatter\"}], \"scatter3d\": [{\"line\": {\"colorbar\": {\"outlinewidth\": 0, \"ticks\": \"\"}}, \"marker\": {\"colorbar\": {\"outlinewidth\": 0, \"ticks\": \"\"}}, \"type\": \"scatter3d\"}], \"scattercarpet\": [{\"marker\": {\"colorbar\": {\"outlinewidth\": 0, \"ticks\": \"\"}}, \"type\": \"scattercarpet\"}], \"scattergeo\": [{\"marker\": {\"colorbar\": {\"outlinewidth\": 0, \"ticks\": \"\"}}, \"type\": \"scattergeo\"}], \"scattergl\": [{\"marker\": {\"colorbar\": {\"outlinewidth\": 0, \"ticks\": \"\"}}, \"type\": \"scattergl\"}], \"scattermapbox\": [{\"marker\": {\"colorbar\": {\"outlinewidth\": 0, \"ticks\": \"\"}}, \"type\": \"scattermapbox\"}], \"scatterpolar\": [{\"marker\": {\"colorbar\": {\"outlinewidth\": 0, \"ticks\": \"\"}}, \"type\": \"scatterpolar\"}], \"scatterpolargl\": [{\"marker\": {\"colorbar\": {\"outlinewidth\": 0, \"ticks\": \"\"}}, \"type\": \"scatterpolargl\"}], \"scatterternary\": [{\"marker\": {\"colorbar\": {\"outlinewidth\": 0, \"ticks\": \"\"}}, \"type\": \"scatterternary\"}], \"surface\": [{\"colorbar\": {\"outlinewidth\": 0, \"ticks\": \"\"}, \"colorscale\": [[0.0, \"#0d0887\"], [0.1111111111111111, \"#46039f\"], [0.2222222222222222, \"#7201a8\"], [0.3333333333333333, \"#9c179e\"], [0.4444444444444444, \"#bd3786\"], [0.5555555555555556, \"#d8576b\"], [0.6666666666666666, \"#ed7953\"], [0.7777777777777778, \"#fb9f3a\"], [0.8888888888888888, \"#fdca26\"], [1.0, \"#f0f921\"]], \"type\": \"surface\"}], \"table\": [{\"cells\": {\"fill\": {\"color\": \"#EBF0F8\"}, \"line\": {\"color\": \"white\"}}, \"header\": {\"fill\": {\"color\": \"#C8D4E3\"}, \"line\": {\"color\": \"white\"}}, \"type\": \"table\"}]}, \"layout\": {\"annotationdefaults\": {\"arrowcolor\": \"#2a3f5f\", \"arrowhead\": 0, \"arrowwidth\": 1}, \"colorscale\": {\"diverging\": [[0, \"#8e0152\"], [0.1, \"#c51b7d\"], [0.2, \"#de77ae\"], [0.3, \"#f1b6da\"], [0.4, \"#fde0ef\"], [0.5, \"#f7f7f7\"], [0.6, \"#e6f5d0\"], [0.7, \"#b8e186\"], [0.8, \"#7fbc41\"], [0.9, \"#4d9221\"], [1, \"#276419\"]], \"sequential\": [[0.0, \"#0d0887\"], [0.1111111111111111, \"#46039f\"], [0.2222222222222222, \"#7201a8\"], [0.3333333333333333, \"#9c179e\"], [0.4444444444444444, \"#bd3786\"], [0.5555555555555556, \"#d8576b\"], [0.6666666666666666, \"#ed7953\"], [0.7777777777777778, \"#fb9f3a\"], [0.8888888888888888, \"#fdca26\"], [1.0, \"#f0f921\"]], \"sequentialminus\": [[0.0, \"#0d0887\"], [0.1111111111111111, \"#46039f\"], [0.2222222222222222, \"#7201a8\"], [0.3333333333333333, \"#9c179e\"], [0.4444444444444444, \"#bd3786\"], [0.5555555555555556, \"#d8576b\"], [0.6666666666666666, \"#ed7953\"], [0.7777777777777778, \"#fb9f3a\"], [0.8888888888888888, \"#fdca26\"], [1.0, \"#f0f921\"]]}, \"colorway\": [\"#636efa\", \"#EF553B\", \"#00cc96\", \"#ab63fa\", \"#FFA15A\", \"#19d3f3\", \"#FF6692\", \"#B6E880\", \"#FF97FF\", \"#FECB52\"], \"font\": {\"color\": \"#2a3f5f\"}, \"geo\": {\"bgcolor\": \"white\", \"lakecolor\": \"white\", \"landcolor\": \"#E5ECF6\", \"showlakes\": true, \"showland\": true, \"subunitcolor\": \"white\"}, \"hoverlabel\": {\"align\": \"left\"}, \"hovermode\": \"closest\", \"mapbox\": {\"style\": \"light\"}, \"paper_bgcolor\": \"white\", \"plot_bgcolor\": \"#E5ECF6\", \"polar\": {\"angularaxis\": {\"gridcolor\": \"white\", \"linecolor\": \"white\", \"ticks\": \"\"}, \"bgcolor\": \"#E5ECF6\", \"radialaxis\": {\"gridcolor\": \"white\", \"linecolor\": \"white\", \"ticks\": \"\"}}, \"scene\": {\"xaxis\": {\"backgroundcolor\": \"#E5ECF6\", \"gridcolor\": \"white\", \"gridwidth\": 2, \"linecolor\": \"white\", \"showbackground\": true, \"ticks\": \"\", \"zerolinecolor\": \"white\"}, \"yaxis\": {\"backgroundcolor\": \"#E5ECF6\", \"gridcolor\": \"white\", \"gridwidth\": 2, \"linecolor\": \"white\", \"showbackground\": true, \"ticks\": \"\", \"zerolinecolor\": \"white\"}, \"zaxis\": {\"backgroundcolor\": \"#E5ECF6\", \"gridcolor\": \"white\", \"gridwidth\": 2, \"linecolor\": \"white\", \"showbackground\": true, \"ticks\": \"\", \"zerolinecolor\": \"white\"}}, \"shapedefaults\": {\"line\": {\"color\": \"#2a3f5f\"}}, \"ternary\": {\"aaxis\": {\"gridcolor\": \"white\", \"linecolor\": \"white\", \"ticks\": \"\"}, \"baxis\": {\"gridcolor\": \"white\", \"linecolor\": \"white\", \"ticks\": \"\"}, \"bgcolor\": \"#E5ECF6\", \"caxis\": {\"gridcolor\": \"white\", \"linecolor\": \"white\", \"ticks\": \"\"}}, \"title\": {\"x\": 0.05}, \"xaxis\": {\"automargin\": true, \"gridcolor\": \"white\", \"linecolor\": \"white\", \"ticks\": \"\", \"zerolinecolor\": \"white\", \"zerolinewidth\": 2}, \"yaxis\": {\"automargin\": true, \"gridcolor\": \"white\", \"linecolor\": \"white\", \"ticks\": \"\", \"zerolinecolor\": \"white\", \"zerolinewidth\": 2}}}, \"title\": {\"text\": \"Rabi\"}, \"xaxis\": {\"title\": {\"text\": \"Time (ns)\"}}, \"yaxis\": {\"title\": {\"text\": \"Counts\"}}},\n",
       "                        {\"responsive\": true}\n",
       "                    ).then(function(){\n",
       "                            \n",
       "var gd = document.getElementById('b8af7202-e9ec-4c5a-bbc6-a926a139c4bd');\n",
       "var x = new MutationObserver(function (mutations, observer) {{\n",
       "        var display = window.getComputedStyle(gd).display;\n",
       "        if (!display || display === 'none') {{\n",
       "            console.log([gd, 'removed!']);\n",
       "            Plotly.purge(gd);\n",
       "            observer.disconnect();\n",
       "        }}\n",
       "}});\n",
       "\n",
       "// Listen for the removal of the full notebook cells\n",
       "var notebookContainer = gd.closest('#notebook-container');\n",
       "if (notebookContainer) {{\n",
       "    x.observe(notebookContainer, {childList: true});\n",
       "}}\n",
       "\n",
       "// Listen for the clearing of the current output cell\n",
       "var outputEl = gd.closest('.output');\n",
       "if (outputEl) {{\n",
       "    x.observe(outputEl, {childList: true});\n",
       "}}\n",
       "\n",
       "                        })\n",
       "                };\n",
       "                });\n",
       "            </script>\n",
       "        </div>"
      ]
     },
     "metadata": {},
     "output_type": "display_data"
    }
   ],
   "source": [
    "plotdata()"
   ]
  },
  {
   "cell_type": "code",
   "execution_count": null,
   "metadata": {},
   "outputs": [],
   "source": []
  }
 ],
 "metadata": {
  "kernelspec": {
   "display_name": "Python 3",
   "language": "python",
   "name": "python3"
  },
  "language_info": {
   "codemirror_mode": {
    "name": "ipython",
    "version": 3
   },
   "file_extension": ".py",
   "mimetype": "text/x-python",
   "name": "python",
   "nbconvert_exporter": "python",
   "pygments_lexer": "ipython3",
   "version": "3.7.3"
  },
  "pycharm": {
   "stem_cell": {
    "cell_type": "raw",
    "metadata": {
     "collapsed": false
    },
    "source": []
   }
  }
 },
 "nbformat": 4,
 "nbformat_minor": 4
}
