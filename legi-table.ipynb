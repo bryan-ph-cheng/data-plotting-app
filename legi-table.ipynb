{
 "cells": [
  {
   "cell_type": "code",
   "execution_count": 11,
   "metadata": {},
   "outputs": [
    {
     "name": "stdout",
     "output_type": "stream",
     "text": [
      " * Serving Flask app \"__main__\" (lazy loading)\n",
      " * Environment: production\n",
      "   WARNING: This is a development server. Do not use it in a production deployment.\n",
      "   Use a production WSGI server instead.\n",
      " * Debug mode: off\n"
     ]
    },
    {
     "name": "stderr",
     "output_type": "stream",
     "text": [
      " * Running on http://127.0.0.1:8050/ (Press CTRL+C to quit)\n",
      "127.0.0.1 - - [11/Sep/2019 12:37:02] \"GET / HTTP/1.1\" 200 -\n",
      "127.0.0.1 - - [11/Sep/2019 12:37:02] \"GET /_dash-component-suites/dash_renderer/react@16.8.6.min.js?v=1.0.0&m=1566376284 HTTP/1.1\" 200 -\n",
      "127.0.0.1 - - [11/Sep/2019 12:37:02] \"GET /_dash-component-suites/dash_renderer/prop-types@15.7.2.min.js?v=1.0.0&m=1566376284 HTTP/1.1\" 200 -\n",
      "127.0.0.1 - - [11/Sep/2019 12:37:02] \"GET /_dash-component-suites/dash_renderer/react-dom@16.8.6.min.js?v=1.0.0&m=1566376284 HTTP/1.1\" 200 -\n",
      "127.0.0.1 - - [11/Sep/2019 12:37:02] \"GET /_dash-component-suites/dash_renderer/dash_renderer.min.js?v=1.0.0&m=1566376284 HTTP/1.1\" 200 -\n",
      "127.0.0.1 - - [11/Sep/2019 12:37:02] \"GET /_dash-component-suites/dash_table/bundle.js?v=4.1.0&m=1566376288 HTTP/1.1\" 200 -\n",
      "127.0.0.1 - - [11/Sep/2019 12:37:03] \"GET /_dash-layout HTTP/1.1\" 200 -\n",
      "127.0.0.1 - - [11/Sep/2019 12:37:03] \"GET /_dash-dependencies HTTP/1.1\" 200 -\n"
     ]
    }
   ],
   "source": [
    "import dash\n",
    "import dash_table\n",
    "import pandas as pd\n",
    "\n",
    "app = dash.Dash(__name__)\n",
    "\n",
    "hihi = [{'name': ['','Analysis'], 'id': 'analysis'}, \n",
    "                             {'name': ['Amplitude','Fit'], 'id': 'amplitude-opt'},\n",
    "                             {'name': ['Amplitude','Error'], 'id': 'amplitude-cov'},\n",
    "                             {'name': ['Baseline Offset','Fit'], 'id': 'baseline-opt'},\n",
    "                             {'name': ['Baseline Offset','Error'], 'id': 'baseline-cov'},\n",
    "                             {'name': ['ODMR Frequency (GHz)','Fit'], 'id': 'odmr-opt'},\n",
    "                             {'name': ['ODMR Frequency (GHz)','Error'], 'id': 'odmr-cov'},\n",
    "                             {'name': ['Width (GHz)','Fit'], 'id': 'width-opt'},\n",
    "                             {'name': ['Width (GHz)','Error'], 'id': 'width-cov'}]\n",
    "dat = [{'analysis': [5], 'width-cov': [7,7,7,7]}, {'width-cov': [7,7,7,7]}]\n",
    "\n",
    "\n",
    "app.layout = dash_table.DataTable(id='table',columns=hihi,data=dat, merge_duplicate_headers=True)\n",
    "\n",
    "if __name__ == '__main__':\n",
    "    app.run_server(debug=False)"
   ]
  },
  {
   "cell_type": "code",
   "execution_count": null,
   "metadata": {},
   "outputs": [],
   "source": []
  },
  {
   "cell_type": "code",
   "execution_count": null,
   "metadata": {},
   "outputs": [],
   "source": []
  }
 ],
 "metadata": {
  "kernelspec": {
   "display_name": "Python 3",
   "language": "python",
   "name": "python3"
  },
  "language_info": {
   "codemirror_mode": {
    "name": "ipython",
    "version": 3
   },
   "file_extension": ".py",
   "mimetype": "text/x-python",
   "name": "python",
   "nbconvert_exporter": "python",
   "pygments_lexer": "ipython3",
   "version": "3.7.3"
  }
 },
 "nbformat": 4,
 "nbformat_minor": 4
}
